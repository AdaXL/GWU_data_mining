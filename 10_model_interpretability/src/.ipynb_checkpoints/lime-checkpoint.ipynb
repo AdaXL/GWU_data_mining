{
 "cells": [
  {
   "cell_type": "markdown",
   "metadata": {},
   "source": [
    "# License \n",
    "***\n",
    "Copyright 2017 J. Patrick Hall, jphall@gwu.edu\n",
    "\n",
    "Permission is hereby granted, free of charge, to any person obtaining a copy of this software and associated documentation files (the \"Software\"), to deal in the Software without restriction, including without limitation the rights to use, copy, modify, merge, publish, distribute, sublicense, and/or sell copies of the Software, and to permit persons to whom the Software is furnished to do so, subject to the following conditions:\n",
    "\n",
    "The above copyright notice and this permission notice shall be included in all copies or substantial portions of the Software.\n",
    "\n",
    "THE SOFTWARE IS PROVIDED \"AS IS\", WITHOUT WARRANTY OF ANY KIND, EXPRESS OR IMPLIED, INCLUDING BUT NOT LIMITED TO THE WARRANTIES OF MERCHANTABILITY, FITNESS FOR A PARTICULAR PURPOSE AND NONINFRINGEMENT. IN NO EVENT SHALL THE AUTHORS OR COPYRIGHT HOLDERS BE LIABLE FOR ANY CLAIM, DAMAGES OR OTHER LIABILITY, WHETHER IN AN ACTION OF CONTRACT, TORT OR OTHERWISE, ARISING FROM, OUT OF OR IN CONNECTION WITH THE SOFTWARE OR THE USE OR OTHER DEALINGS IN THE SOFTWARE."
   ]
  },
  {
   "cell_type": "markdown",
   "metadata": {},
   "source": [
    "# Local Interpretable Model Agnostic Explanations (LIME)\n",
    "***\n",
    "\n",
    "Based on: Ribeiro, Marco Tulio, Sameer Singh, and Carlos Guestrin. \"Why should i trust you?: Explaining the predictions of any classifier.\" In Proceedings of the 22nd ACM SIGKDD International Conference on Knowledge Discovery and Data Mining, pp. 1135-1144. ACM, 2016.\n",
    "\n",
    "http://www.kdd.org/kdd2016/papers/files/rfp0573-ribeiroA.pdf"
   ]
  },
  {
   "cell_type": "markdown",
   "metadata": {},
   "source": [
    "## Preliminaries: imports, start h2o, load and clean data "
   ]
  },
  {
   "cell_type": "code",
   "execution_count": 1,
   "metadata": {
    "collapsed": false
   },
   "outputs": [],
   "source": [
    "# imports\n",
    "import h2o \n",
    "import operator\n",
    "import numpy as np\n",
    "import pandas as pd\n",
    "from h2o.estimators.glm import H2OGeneralizedLinearEstimator\n",
    "from h2o.estimators.gbm import H2OGradientBoostingEstimator"
   ]
  },
  {
   "cell_type": "code",
   "execution_count": 2,
   "metadata": {
    "collapsed": false
   },
   "outputs": [
    {
     "name": "stdout",
     "output_type": "stream",
     "text": [
      "Checking whether there is an H2O instance running at http://localhost:54321..... not found.\n",
      "Attempting to start a local H2O server...\n",
      "; Java HotSpot(TM) 64-Bit Server VM (build 24.79-b02, mixed mode)\n",
      "  Starting server from C:\\Anaconda3\\lib\\site-packages\\h2o\\backend\\bin\\h2o.jar\n",
      "  Ice root: C:\\Users\\p\\AppData\\Local\\Temp\\tmp3xzxtncl\n",
      "  JVM stdout: C:\\Users\\p\\AppData\\Local\\Temp\\tmp3xzxtncl\\h2o_p_started_from_python.out\n",
      "  JVM stderr: C:\\Users\\p\\AppData\\Local\\Temp\\tmp3xzxtncl\\h2o_p_started_from_python.err\n",
      "  Server is running at http://127.0.0.1:54321\n",
      "Connecting to H2O server at http://127.0.0.1:54321... successful.\n"
     ]
    },
    {
     "data": {
      "text/html": [
       "<div style=\"overflow:auto\"><table style=\"width:50%\"><tr><td>H2O cluster uptime:</td>\n",
       "<td>01 secs</td></tr>\n",
       "<tr><td>H2O cluster version:</td>\n",
       "<td>3.10.5.4</td></tr>\n",
       "<tr><td>H2O cluster version age:</td>\n",
       "<td>6 days </td></tr>\n",
       "<tr><td>H2O cluster name:</td>\n",
       "<td>H2O_from_python_p_dpmzhy</td></tr>\n",
       "<tr><td>H2O cluster total nodes:</td>\n",
       "<td>1</td></tr>\n",
       "<tr><td>H2O cluster free memory:</td>\n",
       "<td>3.538 Gb</td></tr>\n",
       "<tr><td>H2O cluster total cores:</td>\n",
       "<td>8</td></tr>\n",
       "<tr><td>H2O cluster allowed cores:</td>\n",
       "<td>8</td></tr>\n",
       "<tr><td>H2O cluster status:</td>\n",
       "<td>accepting new members, healthy</td></tr>\n",
       "<tr><td>H2O connection url:</td>\n",
       "<td>http://127.0.0.1:54321</td></tr>\n",
       "<tr><td>H2O connection proxy:</td>\n",
       "<td>None</td></tr>\n",
       "<tr><td>H2O internal security:</td>\n",
       "<td>False</td></tr>\n",
       "<tr><td>Python version:</td>\n",
       "<td>3.5.2 final</td></tr></table></div>"
      ],
      "text/plain": [
       "--------------------------  ------------------------------\n",
       "H2O cluster uptime:         01 secs\n",
       "H2O cluster version:        3.10.5.4\n",
       "H2O cluster version age:    6 days\n",
       "H2O cluster name:           H2O_from_python_p_dpmzhy\n",
       "H2O cluster total nodes:    1\n",
       "H2O cluster free memory:    3.538 Gb\n",
       "H2O cluster total cores:    8\n",
       "H2O cluster allowed cores:  8\n",
       "H2O cluster status:         accepting new members, healthy\n",
       "H2O connection url:         http://127.0.0.1:54321\n",
       "H2O connection proxy:\n",
       "H2O internal security:      False\n",
       "Python version:             3.5.2 final\n",
       "--------------------------  ------------------------------"
      ]
     },
     "metadata": {},
     "output_type": "display_data"
    }
   ],
   "source": [
    "# start h2o\n",
    "h2o.init()\n",
    "h2o.remove_all()"
   ]
  },
  {
   "cell_type": "markdown",
   "metadata": {},
   "source": [
    "#### Load and prepare data for modeling"
   ]
  },
  {
   "cell_type": "code",
   "execution_count": 3,
   "metadata": {
    "collapsed": false
   },
   "outputs": [
    {
     "name": "stdout",
     "output_type": "stream",
     "text": [
      "Parse progress: |█████████████████████████████████████████████████████████| 100%\n"
     ]
    }
   ],
   "source": [
    "# load data\n",
    "path = '../../03_regression/data/train.csv'\n",
    "frame = h2o.import_file(path=path)"
   ]
  },
  {
   "cell_type": "code",
   "execution_count": 4,
   "metadata": {
    "collapsed": false
   },
   "outputs": [],
   "source": [
    "# assign target and inputs\n",
    "y = 'SalePrice'\n",
    "X = [name for name in frame.columns if name not in [y, 'Id']]"
   ]
  },
  {
   "cell_type": "markdown",
   "metadata": {},
   "source": [
    "#### LIME is simpler to use with data containing no missing values"
   ]
  },
  {
   "cell_type": "code",
   "execution_count": 5,
   "metadata": {
    "collapsed": true
   },
   "outputs": [],
   "source": [
    "# determine column types\n",
    "# impute\n",
    "reals, enums = [], []\n",
    "for key, val in frame.types.items():\n",
    "    if key in X:\n",
    "        if val == 'enum':\n",
    "            enums.append(key)\n",
    "        else: \n",
    "            reals.append(key)\n",
    "            \n",
    "_ = frame[reals].impute(method='median')\n",
    "_ = frame[enums].impute(method='mode')"
   ]
  },
  {
   "cell_type": "code",
   "execution_count": 6,
   "metadata": {
    "collapsed": true
   },
   "outputs": [],
   "source": [
    "# split into training and validation\n",
    "train, valid = frame.split_frame([0.7])"
   ]
  },
  {
   "cell_type": "markdown",
   "metadata": {},
   "source": [
    "#### LIME is can be unstable with data in which strong correlations exist between input variables"
   ]
  },
  {
   "cell_type": "code",
   "execution_count": 8,
   "metadata": {
    "collapsed": false
   },
   "outputs": [
    {
     "name": "stdout",
     "output_type": "stream",
     "text": [
      "TotalBsmtSF 1stFlrSF\n",
      "GarageYrBlt YearBuilt\n",
      "GrLivArea TotRmsAbvGrd\n",
      "YearBuilt GarageYrBlt\n",
      "GarageArea GarageCars\n",
      "1stFlrSF TotalBsmtSF\n",
      "TotRmsAbvGrd GrLivArea\n",
      "GarageCars GarageArea\n"
     ]
    }
   ],
   "source": [
    "# print out correlated pairs\n",
    "\n",
    "corr = train[reals].cor().as_data_frame()\n",
    "for i in range(0, corr.shape[0]):\n",
    "    for j in range(0, corr.shape[1]):\n",
    "        if i != j:\n",
    "            if np.abs(corr.iat[i, j]) > 0.7:\n",
    "                print(corr.columns[i], corr.columns[j])"
   ]
  },
  {
   "cell_type": "markdown",
   "metadata": {
    "collapsed": true
   },
   "source": [
    "#### Remove one var from each correlated pair"
   ]
  },
  {
   "cell_type": "code",
   "execution_count": 8,
   "metadata": {
    "collapsed": false
   },
   "outputs": [],
   "source": [
    "X_reals_decorr = [i for i in reals if i not in  ['GarageYrBlt', 'TotRmsAbvGrd', 'TotalBsmtSF', 'GarageCars']]"
   ]
  },
  {
   "cell_type": "markdown",
   "metadata": {},
   "source": [
    "## Train a predictive model"
   ]
  },
  {
   "cell_type": "code",
   "execution_count": 9,
   "metadata": {
    "collapsed": false
   },
   "outputs": [
    {
     "name": "stdout",
     "output_type": "stream",
     "text": [
      "gbm Model Build progress: |███████████████████████████████████████████████| 100%\n",
      "gbm prediction progress: |████████████████████████████████████████████████| 100%\n"
     ]
    }
   ],
   "source": [
    "# train GBM model\n",
    "model = H2OGradientBoostingEstimator(ntrees=100,\n",
    "                                     max_depth=10,\n",
    "                                     distribution='huber',\n",
    "                                     learn_rate=0.1,\n",
    "                                     stopping_rounds=5,\n",
    "                                     seed=12345)\n",
    "\n",
    "model.train(y=y, x=X_reals_decorr, training_frame=train, validation_frame=valid)\n",
    "\n",
    "preds = valid['Id'].cbind(model.predict(valid))"
   ]
  },
  {
   "cell_type": "markdown",
   "metadata": {},
   "source": [
    "## Build local linear surrogate models to help interpret the model"
   ]
  },
  {
   "cell_type": "markdown",
   "metadata": {},
   "source": [
    "#### Create a local region based on HouseStyle"
   ]
  },
  {
   "cell_type": "code",
   "execution_count": 10,
   "metadata": {
    "collapsed": false
   },
   "outputs": [
    {
     "name": "stdout",
     "output_type": "stream",
     "text": [
      "Rows:201\n",
      "Cols:82\n",
      "\n",
      "\n"
     ]
    },
    {
     "data": {
      "text/html": [
       "<table>\n",
       "<thead>\n",
       "<tr><th>       </th><th>Id               </th><th>predict            </th><th>MSSubClass        </th><th>MSZoning  </th><th>LotFrontage       </th><th>LotArea           </th><th>Street  </th><th>Alley  </th><th>LotShape  </th><th>LandContour  </th><th>Utilities  </th><th>LotConfig  </th><th>LandSlope  </th><th>Neighborhood  </th><th>Condition1  </th><th>Condition2  </th><th>BldgType  </th><th>HouseStyle  </th><th>OverallQual       </th><th>OverallCond       </th><th>YearBuilt         </th><th>YearRemodAdd      </th><th>RoofStyle  </th><th>RoofMatl  </th><th>Exterior1st  </th><th>Exterior2nd  </th><th>MasVnrType  </th><th>MasVnrArea        </th><th>ExterQual  </th><th>ExterCond  </th><th>Foundation  </th><th>BsmtQual  </th><th>BsmtCond  </th><th>BsmtExposure  </th><th>BsmtFinType1  </th><th>BsmtFinSF1        </th><th>BsmtFinType2  </th><th>BsmtFinSF2        </th><th>BsmtUnfSF        </th><th>TotalBsmtSF       </th><th>Heating  </th><th>HeatingQC  </th><th>CentralAir  </th><th>Electrical  </th><th>1stFlrSF          </th><th>2ndFlrSF          </th><th>LowQualFinSF     </th><th>GrLivArea         </th><th>BsmtFullBath      </th><th>BsmtHalfBath       </th><th>FullBath          </th><th>HalfBath           </th><th>BedroomAbvGr      </th><th>KitchenAbvGr      </th><th>KitchenQual  </th><th>TotRmsAbvGrd      </th><th>Functional  </th><th>Fireplaces        </th><th>FireplaceQu  </th><th>GarageType  </th><th>GarageYrBlt       </th><th>GarageFinish  </th><th>GarageCars        </th><th>GarageArea        </th><th>GarageQual  </th><th>GarageCond  </th><th>PavedDrive  </th><th>WoodDeckSF        </th><th>OpenPorchSF      </th><th>EnclosedPorch     </th><th>3SsnPorch         </th><th>ScreenPorch       </th><th>PoolArea  </th><th>PoolQC  </th><th>Fence  </th><th>MiscFeature  </th><th>MiscVal           </th><th>MoSold            </th><th>YrSold            </th><th>SaleType  </th><th>SaleCondition  </th><th>SalePrice         </th></tr>\n",
       "</thead>\n",
       "<tbody>\n",
       "<tr><td>type   </td><td>int              </td><td>real               </td><td>int               </td><td>enum      </td><td>real              </td><td>int               </td><td>enum    </td><td>enum   </td><td>enum      </td><td>enum         </td><td>enum       </td><td>enum       </td><td>enum       </td><td>enum          </td><td>enum        </td><td>enum        </td><td>enum      </td><td>enum        </td><td>int               </td><td>int               </td><td>int               </td><td>int               </td><td>enum       </td><td>enum      </td><td>enum         </td><td>enum         </td><td>enum        </td><td>int               </td><td>enum       </td><td>enum       </td><td>enum        </td><td>enum      </td><td>enum      </td><td>enum          </td><td>enum          </td><td>int               </td><td>enum          </td><td>int               </td><td>int              </td><td>int               </td><td>enum     </td><td>enum       </td><td>enum        </td><td>enum        </td><td>int               </td><td>int               </td><td>int              </td><td>int               </td><td>int               </td><td>int                </td><td>int               </td><td>int                </td><td>int               </td><td>int               </td><td>enum         </td><td>int               </td><td>enum        </td><td>int               </td><td>enum         </td><td>enum        </td><td>real              </td><td>enum          </td><td>int               </td><td>int               </td><td>enum        </td><td>enum        </td><td>enum        </td><td>int               </td><td>int              </td><td>int               </td><td>int               </td><td>int               </td><td>int       </td><td>enum    </td><td>enum   </td><td>enum         </td><td>int               </td><td>int               </td><td>int               </td><td>enum      </td><td>enum           </td><td>int               </td></tr>\n",
       "<tr><td>mins   </td><td>7.0              </td><td>11.136341223307573 </td><td>20.0              </td><td>          </td><td>32.0              </td><td>3013.0            </td><td>        </td><td>       </td><td>          </td><td>             </td><td>           </td><td>           </td><td>           </td><td>              </td><td>            </td><td>            </td><td>          </td><td>            </td><td>1.0               </td><td>1.0               </td><td>1920.0            </td><td>1950.0            </td><td>           </td><td>          </td><td>             </td><td>             </td><td>            </td><td>0.0               </td><td>           </td><td>           </td><td>            </td><td>          </td><td>          </td><td>              </td><td>              </td><td>0.0               </td><td>              </td><td>0.0               </td><td>0.0              </td><td>0.0               </td><td>         </td><td>           </td><td>            </td><td>            </td><td>672.0             </td><td>0.0               </td><td>0.0              </td><td>672.0             </td><td>0.0               </td><td>0.0                </td><td>0.0               </td><td>0.0                </td><td>1.0               </td><td>1.0               </td><td>             </td><td>3.0               </td><td>            </td><td>0.0               </td><td>             </td><td>            </td><td>1920.0            </td><td>              </td><td>0.0               </td><td>0.0               </td><td>            </td><td>            </td><td>            </td><td>0.0               </td><td>0.0              </td><td>0.0               </td><td>0.0               </td><td>0.0               </td><td>0.0       </td><td>        </td><td>       </td><td>             </td><td>0.0               </td><td>1.0               </td><td>2006.0            </td><td>          </td><td>               </td><td>61000.0           </td></tr>\n",
       "<tr><td>mean   </td><td>767.1741293532339</td><td>12.048188577823865 </td><td>35.472636815920396</td><td>          </td><td>73.54974503005373 </td><td>10618.293532338308</td><td>        </td><td>       </td><td>          </td><td>             </td><td>           </td><td>           </td><td>           </td><td>              </td><td>            </td><td>            </td><td>          </td><td>            </td><td>6.109452736318408 </td><td>5.552238805970149 </td><td>1976.3383084577115</td><td>1987.0149253731342</td><td>           </td><td>          </td><td>             </td><td>             </td><td>            </td><td>110.49253731343283</td><td>           </td><td>           </td><td>            </td><td>          </td><td>          </td><td>              </td><td>              </td><td>515.0597014925373 </td><td>              </td><td>62.930348258706466</td><td>660.6517412935324</td><td>1238.641791044776 </td><td>         </td><td>           </td><td>            </td><td>            </td><td>1341.8955223880596</td><td>2.3233830845771144</td><td>1.154228855721393</td><td>1345.3731343283582</td><td>0.4925373134328358</td><td>0.05472636815920398</td><td>1.4676616915422886</td><td>0.14427860696517414</td><td>2.572139303482587 </td><td>1.0099502487562189</td><td>             </td><td>5.9950248756218905</td><td>            </td><td>0.5621890547263682</td><td>             </td><td>            </td><td>1980.7713896074376</td><td>              </td><td>1.8308457711442787</td><td>499.40796019900495</td><td>            </td><td>            </td><td>            </td><td>86.20398009950249 </td><td>45.17910447761194</td><td>13.303482587064677</td><td>6.308457711442786 </td><td>12.805970149253731</td><td>0.0       </td><td>        </td><td>       </td><td>             </td><td>22.935323383084576</td><td>6.3283582089552235</td><td>2007.910447761194 </td><td>          </td><td>               </td><td>180807.98009950249</td></tr>\n",
       "<tr><td>maxs   </td><td>1457.0           </td><td>12.987364212327863 </td><td>190.0             </td><td>          </td><td>140.0             </td><td>70761.0           </td><td>        </td><td>       </td><td>          </td><td>             </td><td>           </td><td>           </td><td>           </td><td>              </td><td>            </td><td>            </td><td>          </td><td>            </td><td>10.0              </td><td>9.0               </td><td>2009.0            </td><td>2010.0            </td><td>           </td><td>          </td><td>             </td><td>             </td><td>            </td><td>1115.0            </td><td>           </td><td>           </td><td>            </td><td>          </td><td>          </td><td>              </td><td>              </td><td>2188.0            </td><td>              </td><td>1127.0            </td><td>2002.0           </td><td>2330.0            </td><td>         </td><td>           </td><td>            </td><td>            </td><td>2898.0            </td><td>467.0             </td><td>232.0            </td><td>2898.0            </td><td>1.0               </td><td>1.0                </td><td>2.0               </td><td>1.0                </td><td>6.0               </td><td>2.0               </td><td>             </td><td>11.0              </td><td>            </td><td>3.0               </td><td>             </td><td>            </td><td>2010.0            </td><td>              </td><td>3.0               </td><td>1248.0            </td><td>            </td><td>            </td><td>            </td><td>495.0             </td><td>312.0            </td><td>280.0             </td><td>304.0             </td><td>224.0             </td><td>0.0       </td><td>        </td><td>       </td><td>             </td><td>700.0             </td><td>12.0              </td><td>2010.0            </td><td>          </td><td>               </td><td>611657.0          </td></tr>\n",
       "<tr><td>sigma  </td><td>425.7493564614786</td><td>0.35552753843236923</td><td>35.22641760827288 </td><td>          </td><td>19.286437751655885</td><td>6894.930950227707 </td><td>        </td><td>       </td><td>          </td><td>             </td><td>           </td><td>           </td><td>           </td><td>              </td><td>            </td><td>            </td><td>          </td><td>            </td><td>1.4345592350980056</td><td>1.1351244260813733</td><td>25.29812196832758 </td><td>20.874500619641264</td><td>           </td><td>          </td><td>             </td><td>             </td><td>            </td><td>172.37169487485423</td><td>           </td><td>           </td><td>            </td><td>          </td><td>          </td><td>              </td><td>              </td><td>477.62029523242677</td><td>              </td><td>200.81704390907188</td><td>499.6749224340288</td><td>397.39956095191667</td><td>         </td><td>           </td><td>            </td><td>            </td><td>378.5681233673152 </td><td>32.93964026059654 </td><td>16.36401828791948</td><td>378.2204847369149 </td><td>0.5011926075380065</td><td>0.22801326661237012</td><td>0.5100970544662303</td><td>0.3522493463301951 </td><td>0.6826565025673691</td><td>0.0995012437733208</td><td>             </td><td>1.2903391509127007</td><td>            </td><td>0.6382500952444912</td><td>             </td><td>            </td><td>22.676998141668108</td><td>              </td><td>0.7219721470351383</td><td>214.8040100564196 </td><td>            </td><td>            </td><td>            </td><td>114.86811212899602</td><td>57.95625730837033</td><td>45.68153278745083 </td><td>37.616543941588425</td><td>45.96288898860802 </td><td>0.0       </td><td>        </td><td>       </td><td>             </td><td>108.5165461854546 </td><td>2.9260283305266843</td><td>1.4042579173739718</td><td>          </td><td>               </td><td>75882.55132604334 </td></tr>\n",
       "<tr><td>zeros  </td><td>0                </td><td>0                  </td><td>0                 </td><td>          </td><td>0                 </td><td>0                 </td><td>        </td><td>       </td><td>          </td><td>             </td><td>           </td><td>           </td><td>           </td><td>              </td><td>            </td><td>            </td><td>          </td><td>            </td><td>0                 </td><td>0                 </td><td>0                 </td><td>0                 </td><td>           </td><td>          </td><td>             </td><td>             </td><td>            </td><td>104               </td><td>           </td><td>           </td><td>            </td><td>          </td><td>          </td><td>              </td><td>              </td><td>51                </td><td>              </td><td>173               </td><td>9                </td><td>3                 </td><td>         </td><td>           </td><td>            </td><td>            </td><td>0                 </td><td>200               </td><td>200              </td><td>0                 </td><td>102               </td><td>190                </td><td>1                 </td><td>172                </td><td>0                 </td><td>0                 </td><td>             </td><td>0                 </td><td>            </td><td>103               </td><td>             </td><td>            </td><td>0                 </td><td>              </td><td>8                 </td><td>8                 </td><td>            </td><td>            </td><td>            </td><td>110               </td><td>81               </td><td>181               </td><td>195               </td><td>186               </td><td>201       </td><td>        </td><td>       </td><td>             </td><td>192               </td><td>0                 </td><td>0                 </td><td>          </td><td>               </td><td>0                 </td></tr>\n",
       "<tr><td>missing</td><td>0                </td><td>0                  </td><td>0                 </td><td>0         </td><td>0                 </td><td>0                 </td><td>0       </td><td>0      </td><td>0         </td><td>0            </td><td>0          </td><td>0          </td><td>0          </td><td>0             </td><td>0           </td><td>0           </td><td>0         </td><td>0           </td><td>0                 </td><td>0                 </td><td>0                 </td><td>0                 </td><td>0          </td><td>0         </td><td>0            </td><td>0            </td><td>0           </td><td>0                 </td><td>0          </td><td>0          </td><td>0           </td><td>0         </td><td>0         </td><td>0             </td><td>0             </td><td>0                 </td><td>0             </td><td>0                 </td><td>0                </td><td>0                 </td><td>0        </td><td>0          </td><td>0           </td><td>0           </td><td>0                 </td><td>0                 </td><td>0                </td><td>0                 </td><td>0                 </td><td>0                  </td><td>0                 </td><td>0                  </td><td>0                 </td><td>0                 </td><td>0            </td><td>0                 </td><td>0           </td><td>0                 </td><td>0            </td><td>0           </td><td>0                 </td><td>0             </td><td>0                 </td><td>0                 </td><td>0           </td><td>0           </td><td>0           </td><td>0                 </td><td>0                </td><td>0                 </td><td>0                 </td><td>0                 </td><td>0         </td><td>0       </td><td>0      </td><td>0            </td><td>0                 </td><td>0                 </td><td>0                 </td><td>0         </td><td>0              </td><td>0                 </td></tr>\n",
       "<tr><td>0      </td><td>7.0              </td><td>12.600721722786714 </td><td>20.0              </td><td>RL        </td><td>75.0              </td><td>10084.0           </td><td>Pave    </td><td>NA     </td><td>Reg       </td><td>Lvl          </td><td>AllPub     </td><td>Inside     </td><td>Gtl        </td><td>Somerst       </td><td>Norm        </td><td>Norm        </td><td>1Fam      </td><td>1Story      </td><td>8.0               </td><td>5.0               </td><td>2004.0            </td><td>2005.0            </td><td>Gable      </td><td>CompShg   </td><td>VinylSd      </td><td>VinylSd      </td><td>Stone       </td><td>186.0             </td><td>Gd         </td><td>TA         </td><td>PConc       </td><td>Ex        </td><td>TA        </td><td>Av            </td><td>GLQ           </td><td>1369.0            </td><td>Unf           </td><td>0.0               </td><td>317.0            </td><td>1686.0            </td><td>GasA     </td><td>Ex         </td><td>Y           </td><td>SBrkr       </td><td>1694.0            </td><td>0.0               </td><td>0.0              </td><td>1694.0            </td><td>1.0               </td><td>0.0                </td><td>2.0               </td><td>0.0                </td><td>3.0               </td><td>1.0               </td><td>Gd           </td><td>7.0               </td><td>Typ         </td><td>1.0               </td><td>Gd           </td><td>Attchd      </td><td>2004.0            </td><td>RFn           </td><td>2.0               </td><td>636.0             </td><td>TA          </td><td>TA          </td><td>Y           </td><td>255.0             </td><td>57.0             </td><td>0.0               </td><td>0.0               </td><td>0.0               </td><td>0.0       </td><td>NA      </td><td>NA     </td><td>NA           </td><td>0.0               </td><td>8.0               </td><td>2007.0            </td><td>WD        </td><td>Normal         </td><td>307000.0          </td></tr>\n",
       "<tr><td>1      </td><td>11.0             </td><td>11.816601671935194 </td><td>20.0              </td><td>RL        </td><td>70.0              </td><td>11200.0           </td><td>Pave    </td><td>NA     </td><td>Reg       </td><td>Lvl          </td><td>AllPub     </td><td>Inside     </td><td>Gtl        </td><td>Sawyer        </td><td>Norm        </td><td>Norm        </td><td>1Fam      </td><td>1Story      </td><td>5.0               </td><td>5.0               </td><td>1965.0            </td><td>1965.0            </td><td>Hip        </td><td>CompShg   </td><td>HdBoard      </td><td>HdBoard      </td><td>None        </td><td>0.0               </td><td>TA         </td><td>TA         </td><td>CBlock      </td><td>TA        </td><td>TA        </td><td>No            </td><td>Rec           </td><td>906.0             </td><td>Unf           </td><td>0.0               </td><td>134.0            </td><td>1040.0            </td><td>GasA     </td><td>Ex         </td><td>Y           </td><td>SBrkr       </td><td>1040.0            </td><td>0.0               </td><td>0.0              </td><td>1040.0            </td><td>1.0               </td><td>0.0                </td><td>1.0               </td><td>0.0                </td><td>3.0               </td><td>1.0               </td><td>TA           </td><td>5.0               </td><td>Typ         </td><td>0.0               </td><td>NA           </td><td>Detchd      </td><td>1965.0            </td><td>Unf           </td><td>1.0               </td><td>384.0             </td><td>TA          </td><td>TA          </td><td>Y           </td><td>0.0               </td><td>0.0              </td><td>0.0               </td><td>0.0               </td><td>0.0               </td><td>0.0       </td><td>NA      </td><td>NA     </td><td>NA           </td><td>0.0               </td><td>2.0               </td><td>2008.0            </td><td>WD        </td><td>Normal         </td><td>129500.0          </td></tr>\n",
       "<tr><td>2      </td><td>20.0             </td><td>11.845784535638668 </td><td>20.0              </td><td>RL        </td><td>70.0              </td><td>7560.0            </td><td>Pave    </td><td>NA     </td><td>Reg       </td><td>Lvl          </td><td>AllPub     </td><td>Inside     </td><td>Gtl        </td><td>NAmes         </td><td>Norm        </td><td>Norm        </td><td>1Fam      </td><td>1Story      </td><td>5.0               </td><td>6.0               </td><td>1958.0            </td><td>1965.0            </td><td>Hip        </td><td>CompShg   </td><td>BrkFace      </td><td>Plywood      </td><td>None        </td><td>0.0               </td><td>TA         </td><td>TA         </td><td>CBlock      </td><td>TA        </td><td>TA        </td><td>No            </td><td>LwQ           </td><td>504.0             </td><td>Unf           </td><td>0.0               </td><td>525.0            </td><td>1029.0            </td><td>GasA     </td><td>TA         </td><td>Y           </td><td>SBrkr       </td><td>1339.0            </td><td>0.0               </td><td>0.0              </td><td>1339.0            </td><td>0.0               </td><td>0.0                </td><td>1.0               </td><td>0.0                </td><td>3.0               </td><td>1.0               </td><td>TA           </td><td>6.0               </td><td>Min1        </td><td>0.0               </td><td>NA           </td><td>Attchd      </td><td>1958.0            </td><td>Unf           </td><td>1.0               </td><td>294.0             </td><td>TA          </td><td>TA          </td><td>Y           </td><td>0.0               </td><td>0.0              </td><td>0.0               </td><td>0.0               </td><td>0.0               </td><td>0.0       </td><td>NA      </td><td>MnPrv  </td><td>NA           </td><td>0.0               </td><td>5.0               </td><td>2009.0            </td><td>COD       </td><td>Abnorml        </td><td>139000.0          </td></tr>\n",
       "<tr><td>3      </td><td>33.0             </td><td>12.228472354362301 </td><td>20.0              </td><td>RL        </td><td>85.0              </td><td>11049.0           </td><td>Pave    </td><td>NA     </td><td>Reg       </td><td>Lvl          </td><td>AllPub     </td><td>Corner     </td><td>Gtl        </td><td>CollgCr       </td><td>Norm        </td><td>Norm        </td><td>1Fam      </td><td>1Story      </td><td>8.0               </td><td>5.0               </td><td>2007.0            </td><td>2007.0            </td><td>Gable      </td><td>CompShg   </td><td>VinylSd      </td><td>VinylSd      </td><td>None        </td><td>0.0               </td><td>Gd         </td><td>TA         </td><td>PConc       </td><td>Ex        </td><td>TA        </td><td>Av            </td><td>Unf           </td><td>0.0               </td><td>Unf           </td><td>0.0               </td><td>1234.0           </td><td>1234.0            </td><td>GasA     </td><td>Ex         </td><td>Y           </td><td>SBrkr       </td><td>1234.0            </td><td>0.0               </td><td>0.0              </td><td>1234.0            </td><td>0.0               </td><td>0.0                </td><td>2.0               </td><td>0.0                </td><td>3.0               </td><td>1.0               </td><td>Gd           </td><td>7.0               </td><td>Typ         </td><td>0.0               </td><td>NA           </td><td>Attchd      </td><td>2007.0            </td><td>RFn           </td><td>2.0               </td><td>484.0             </td><td>TA          </td><td>TA          </td><td>Y           </td><td>0.0               </td><td>30.0             </td><td>0.0               </td><td>0.0               </td><td>0.0               </td><td>0.0       </td><td>NA      </td><td>NA     </td><td>NA           </td><td>0.0               </td><td>1.0               </td><td>2008.0            </td><td>WD        </td><td>Normal         </td><td>179900.0          </td></tr>\n",
       "<tr><td>4      </td><td>34.0             </td><td>11.970651497920686 </td><td>20.0              </td><td>RL        </td><td>70.0              </td><td>10552.0           </td><td>Pave    </td><td>NA     </td><td>IR1       </td><td>Lvl          </td><td>AllPub     </td><td>Inside     </td><td>Gtl        </td><td>NAmes         </td><td>Norm        </td><td>Norm        </td><td>1Fam      </td><td>1Story      </td><td>5.0               </td><td>5.0               </td><td>1959.0            </td><td>1959.0            </td><td>Hip        </td><td>CompShg   </td><td>BrkFace      </td><td>BrkFace      </td><td>None        </td><td>0.0               </td><td>TA         </td><td>TA         </td><td>CBlock      </td><td>TA        </td><td>TA        </td><td>No            </td><td>Rec           </td><td>1018.0            </td><td>Unf           </td><td>0.0               </td><td>380.0            </td><td>1398.0            </td><td>GasA     </td><td>Gd         </td><td>Y           </td><td>SBrkr       </td><td>1700.0            </td><td>0.0               </td><td>0.0              </td><td>1700.0            </td><td>0.0               </td><td>1.0                </td><td>1.0               </td><td>1.0                </td><td>4.0               </td><td>1.0               </td><td>Gd           </td><td>6.0               </td><td>Typ         </td><td>1.0               </td><td>Gd           </td><td>Attchd      </td><td>1959.0            </td><td>RFn           </td><td>2.0               </td><td>447.0             </td><td>TA          </td><td>TA          </td><td>Y           </td><td>0.0               </td><td>38.0             </td><td>0.0               </td><td>0.0               </td><td>0.0               </td><td>0.0       </td><td>NA      </td><td>NA     </td><td>NA           </td><td>0.0               </td><td>4.0               </td><td>2010.0            </td><td>WD        </td><td>Normal         </td><td>165500.0          </td></tr>\n",
       "<tr><td>5      </td><td>39.0             </td><td>11.815614255405288 </td><td>20.0              </td><td>RL        </td><td>68.0              </td><td>7922.0            </td><td>Pave    </td><td>NA     </td><td>Reg       </td><td>Lvl          </td><td>AllPub     </td><td>Inside     </td><td>Gtl        </td><td>NAmes         </td><td>Norm        </td><td>Norm        </td><td>1Fam      </td><td>1Story      </td><td>5.0               </td><td>7.0               </td><td>1953.0            </td><td>2007.0            </td><td>Gable      </td><td>CompShg   </td><td>VinylSd      </td><td>VinylSd      </td><td>None        </td><td>0.0               </td><td>TA         </td><td>Gd         </td><td>CBlock      </td><td>TA        </td><td>TA        </td><td>No            </td><td>GLQ           </td><td>731.0             </td><td>Unf           </td><td>0.0               </td><td>326.0            </td><td>1057.0            </td><td>GasA     </td><td>TA         </td><td>Y           </td><td>SBrkr       </td><td>1057.0            </td><td>0.0               </td><td>0.0              </td><td>1057.0            </td><td>1.0               </td><td>0.0                </td><td>1.0               </td><td>0.0                </td><td>3.0               </td><td>1.0               </td><td>Gd           </td><td>5.0               </td><td>Typ         </td><td>0.0               </td><td>NA           </td><td>Detchd      </td><td>1953.0            </td><td>Unf           </td><td>1.0               </td><td>246.0             </td><td>TA          </td><td>TA          </td><td>Y           </td><td>0.0               </td><td>52.0             </td><td>0.0               </td><td>0.0               </td><td>0.0               </td><td>0.0       </td><td>NA      </td><td>NA     </td><td>NA           </td><td>0.0               </td><td>1.0               </td><td>2010.0            </td><td>WD        </td><td>Abnorml        </td><td>109000.0          </td></tr>\n",
       "<tr><td>6      </td><td>45.0             </td><td>11.82947816238074  </td><td>20.0              </td><td>RL        </td><td>70.0              </td><td>7945.0            </td><td>Pave    </td><td>NA     </td><td>Reg       </td><td>Lvl          </td><td>AllPub     </td><td>Inside     </td><td>Gtl        </td><td>NAmes         </td><td>Norm        </td><td>Norm        </td><td>1Fam      </td><td>1Story      </td><td>5.0               </td><td>6.0               </td><td>1959.0            </td><td>1959.0            </td><td>Gable      </td><td>CompShg   </td><td>BrkFace      </td><td>Wd Sdng      </td><td>None        </td><td>0.0               </td><td>TA         </td><td>TA         </td><td>CBlock      </td><td>TA        </td><td>TA        </td><td>No            </td><td>ALQ           </td><td>179.0             </td><td>BLQ           </td><td>506.0             </td><td>465.0            </td><td>1150.0            </td><td>GasA     </td><td>Ex         </td><td>Y           </td><td>FuseA       </td><td>1150.0            </td><td>0.0               </td><td>0.0              </td><td>1150.0            </td><td>1.0               </td><td>0.0                </td><td>1.0               </td><td>0.0                </td><td>3.0               </td><td>1.0               </td><td>TA           </td><td>6.0               </td><td>Typ         </td><td>0.0               </td><td>NA           </td><td>Attchd      </td><td>1959.0            </td><td>RFn           </td><td>1.0               </td><td>300.0             </td><td>TA          </td><td>TA          </td><td>Y           </td><td>0.0               </td><td>0.0              </td><td>0.0               </td><td>0.0               </td><td>0.0               </td><td>0.0       </td><td>NA      </td><td>NA     </td><td>NA           </td><td>0.0               </td><td>5.0               </td><td>2006.0            </td><td>WD        </td><td>Normal         </td><td>141000.0          </td></tr>\n",
       "<tr><td>7      </td><td>53.0             </td><td>11.591220699565149 </td><td>90.0              </td><td>RM        </td><td>110.0             </td><td>8472.0            </td><td>Grvl    </td><td>NA     </td><td>IR2       </td><td>Bnk          </td><td>AllPub     </td><td>Corner     </td><td>Mod        </td><td>IDOTRR        </td><td>RRNn        </td><td>Norm        </td><td>Duplex    </td><td>1Story      </td><td>5.0               </td><td>5.0               </td><td>1963.0            </td><td>1963.0            </td><td>Gable      </td><td>CompShg   </td><td>Wd Sdng      </td><td>Wd Sdng      </td><td>None        </td><td>0.0               </td><td>Fa         </td><td>TA         </td><td>CBlock      </td><td>Gd        </td><td>TA        </td><td>Gd            </td><td>LwQ           </td><td>104.0             </td><td>GLQ           </td><td>712.0             </td><td>0.0              </td><td>816.0             </td><td>GasA     </td><td>TA         </td><td>N           </td><td>SBrkr       </td><td>816.0             </td><td>0.0               </td><td>0.0              </td><td>816.0             </td><td>1.0               </td><td>0.0                </td><td>1.0               </td><td>0.0                </td><td>2.0               </td><td>1.0               </td><td>TA           </td><td>5.0               </td><td>Typ         </td><td>0.0               </td><td>NA           </td><td>CarPort     </td><td>1963.0            </td><td>Unf           </td><td>2.0               </td><td>516.0             </td><td>TA          </td><td>TA          </td><td>Y           </td><td>106.0             </td><td>0.0              </td><td>0.0               </td><td>0.0               </td><td>0.0               </td><td>0.0       </td><td>NA      </td><td>NA     </td><td>NA           </td><td>0.0               </td><td>5.0               </td><td>2010.0            </td><td>WD        </td><td>Normal         </td><td>110000.0          </td></tr>\n",
       "<tr><td>8      </td><td>67.0             </td><td>12.54496432879821  </td><td>20.0              </td><td>RL        </td><td>70.04995836802665 </td><td>19900.0           </td><td>Pave    </td><td>NA     </td><td>Reg       </td><td>Lvl          </td><td>AllPub     </td><td>Inside     </td><td>Gtl        </td><td>NAmes         </td><td>PosA        </td><td>Norm        </td><td>1Fam      </td><td>1Story      </td><td>7.0               </td><td>5.0               </td><td>1970.0            </td><td>1989.0            </td><td>Gable      </td><td>CompShg   </td><td>Plywood      </td><td>Plywood      </td><td>BrkFace     </td><td>287.0             </td><td>TA         </td><td>TA         </td><td>CBlock      </td><td>Gd        </td><td>TA        </td><td>Gd            </td><td>GLQ           </td><td>912.0             </td><td>Unf           </td><td>0.0               </td><td>1035.0           </td><td>1947.0            </td><td>GasA     </td><td>TA         </td><td>Y           </td><td>SBrkr       </td><td>2207.0            </td><td>0.0               </td><td>0.0              </td><td>2207.0            </td><td>1.0               </td><td>0.0                </td><td>2.0               </td><td>0.0                </td><td>3.0               </td><td>1.0               </td><td>TA           </td><td>7.0               </td><td>Min1        </td><td>1.0               </td><td>Gd           </td><td>Attchd      </td><td>1970.0            </td><td>RFn           </td><td>2.0               </td><td>576.0             </td><td>TA          </td><td>TA          </td><td>Y           </td><td>301.0             </td><td>0.0              </td><td>0.0               </td><td>0.0               </td><td>0.0               </td><td>0.0       </td><td>NA      </td><td>NA     </td><td>NA           </td><td>0.0               </td><td>7.0               </td><td>2010.0            </td><td>WD        </td><td>Normal         </td><td>180000.0          </td></tr>\n",
       "<tr><td>9      </td><td>71.0             </td><td>12.658306602828805 </td><td>20.0              </td><td>RL        </td><td>95.0              </td><td>13651.0           </td><td>Pave    </td><td>NA     </td><td>IR1       </td><td>Lvl          </td><td>AllPub     </td><td>Inside     </td><td>Gtl        </td><td>NAmes         </td><td>Norm        </td><td>Norm        </td><td>1Fam      </td><td>1Story      </td><td>7.0               </td><td>6.0               </td><td>1973.0            </td><td>1973.0            </td><td>Gable      </td><td>CompShg   </td><td>Plywood      </td><td>Plywood      </td><td>BrkFace     </td><td>1115.0            </td><td>TA         </td><td>Gd         </td><td>CBlock      </td><td>Gd        </td><td>TA        </td><td>Gd            </td><td>ALQ           </td><td>1880.0            </td><td>Unf           </td><td>0.0               </td><td>343.0            </td><td>2223.0            </td><td>GasA     </td><td>Ex         </td><td>Y           </td><td>SBrkr       </td><td>2223.0            </td><td>0.0               </td><td>0.0              </td><td>2223.0            </td><td>1.0               </td><td>0.0                </td><td>2.0               </td><td>0.0                </td><td>3.0               </td><td>1.0               </td><td>TA           </td><td>8.0               </td><td>Typ         </td><td>2.0               </td><td>Gd           </td><td>Attchd      </td><td>1973.0            </td><td>Fin           </td><td>2.0               </td><td>516.0             </td><td>TA          </td><td>TA          </td><td>Y           </td><td>300.0             </td><td>0.0              </td><td>0.0               </td><td>0.0               </td><td>0.0               </td><td>0.0       </td><td>NA      </td><td>NA     </td><td>NA           </td><td>0.0               </td><td>2.0               </td><td>2007.0            </td><td>WD        </td><td>Normal         </td><td>244000.0          </td></tr>\n",
       "</tbody>\n",
       "</table>"
      ]
     },
     "metadata": {},
     "output_type": "display_data"
    }
   ],
   "source": [
    "local_frame = preds.cbind(valid.drop(['Id']))\n",
    "local_frame = local_frame[local_frame['HouseStyle'] == '1Story']\n",
    "local_frame['predict'] = local_frame['predict'].log()\n",
    "local_frame.describe()"
   ]
  },
  {
   "cell_type": "markdown",
   "metadata": {},
   "source": [
    "#### Train penalized linear model in local region \n",
    "* Check R<sup>2</sup> to make sure surrogate model is a good fit for predictions\n",
    "* Use trained GLM and coefficients to understand local region of response function"
   ]
  },
  {
   "cell_type": "code",
   "execution_count": 11,
   "metadata": {
    "collapsed": false
   },
   "outputs": [
    {
     "name": "stdout",
     "output_type": "stream",
     "text": [
      "glm Model Build progress: |███████████████████████████████████████████████| 100%\n",
      "\n",
      "Local GLM R-square:\n",
      "0.97\n",
      "\n",
      "Local GLM Coefficients:\n",
      "KitchenAbvGr:             -0.0387358997008214\n",
      "MSSubClass:               -0.0004192093152329444\n",
      "LotArea:                  2.0099822081357896e-06\n",
      "BsmtUnfSF:                5.126593457228189e-06\n",
      "MasVnrArea:               2.2176085505686654e-05\n",
      "WoodDeckSF:               6.72635740885327e-05\n",
      "GarageArea:               8.984813417721547e-05\n",
      "BsmtFinSF1:               9.095518975384912e-05\n",
      "GrLivArea:                0.00010792052071029179\n",
      "3SsnPorch:                0.0001354547244333591\n",
      "LotFrontage:              0.00013550212411223705\n",
      "ScreenPorch:              0.00014605721645261023\n",
      "1stFlrSF:                 0.00021284342126963202\n",
      "YearRemodAdd:             0.0010710304523855025\n",
      "BedroomAbvGr:             0.002071051610137383\n",
      "YearBuilt:                0.002723143077524188\n",
      "OverallCond:              0.010598298201747056\n",
      "BsmtFullBath:             0.011192879715151502\n",
      "HalfBath:                 0.019529351319499982\n",
      "Fireplaces:               0.024018239716770275\n",
      "OverallQual:              0.09665129378347748\n",
      "Intercept:                3.3474892495008337\n"
     ]
    }
   ],
   "source": [
    "# initialize\n",
    "local_glm = H2OGeneralizedLinearEstimator(lambda_search=True)\n",
    "\n",
    "# train \n",
    "local_glm.train(x=X_reals_decorr, y='predict', training_frame=local_frame)\n",
    "\n",
    "print('\\nLocal GLM R-square:\\n%.2f' % local_glm.r2())\n",
    "print('\\nLocal GLM Coefficients:')\n",
    "for c_name, c_val in sorted(local_glm.coef().items(), key=operator.itemgetter(1)):\n",
    "    if c_val != 0.0:\n",
    "        print('%s %s' % (str(c_name + ':').ljust(25), c_val))"
   ]
  },
  {
   "cell_type": "markdown",
   "metadata": {},
   "source": [
    "#### Create a local region based on predicted SalePrice quantiles"
   ]
  },
  {
   "cell_type": "code",
   "execution_count": 12,
   "metadata": {
    "collapsed": false
   },
   "outputs": [
    {
     "name": "stdout",
     "output_type": "stream",
     "text": [
      "Parse progress: |█████████████████████████████████████████████████████████| 100%\n",
      "Rows:42\n",
      "Cols:82\n",
      "\n",
      "\n"
     ]
    },
    {
     "data": {
      "text/html": [
       "<table>\n",
       "<thead>\n",
       "<tr><th>       </th><th>Id               </th><th>predict           </th><th>MSSubClass       </th><th>MSZoning  </th><th>LotFrontage       </th><th>LotArea          </th><th>Street  </th><th>Alley  </th><th>LotShape  </th><th>LandContour  </th><th>Utilities  </th><th>LotConfig  </th><th>LandSlope  </th><th>Neighborhood  </th><th>Condition1  </th><th>Condition2  </th><th>BldgType  </th><th>HouseStyle  </th><th>OverallQual       </th><th>OverallCond       </th><th>YearBuilt         </th><th>YearRemodAdd      </th><th>RoofStyle  </th><th>RoofMatl  </th><th>Exterior1st  </th><th>Exterior2nd  </th><th>MasVnrType  </th><th>MasVnrArea        </th><th>ExterQual  </th><th>ExterCond  </th><th>Foundation  </th><th>BsmtQual  </th><th>BsmtCond  </th><th>BsmtExposure  </th><th>BsmtFinType1  </th><th>BsmtFinSF1        </th><th>BsmtFinType2  </th><th>BsmtFinSF2        </th><th>BsmtUnfSF         </th><th>TotalBsmtSF      </th><th>Heating  </th><th>HeatingQC  </th><th>CentralAir  </th><th>Electrical  </th><th>1stFlrSF          </th><th>2ndFlrSF          </th><th>LowQualFinSF     </th><th>GrLivArea         </th><th>BsmtFullBath       </th><th>BsmtHalfBath        </th><th>FullBath           </th><th>HalfBath           </th><th>BedroomAbvGr      </th><th>KitchenAbvGr       </th><th>KitchenQual  </th><th>TotRmsAbvGrd      </th><th>Functional  </th><th>Fireplaces         </th><th>FireplaceQu  </th><th>GarageType  </th><th>GarageYrBlt       </th><th>GarageFinish  </th><th>GarageCars        </th><th>GarageArea        </th><th>GarageQual  </th><th>GarageCond  </th><th>PavedDrive  </th><th>WoodDeckSF        </th><th>OpenPorchSF       </th><th>EnclosedPorch    </th><th>3SsnPorch  </th><th>ScreenPorch      </th><th>PoolArea  </th><th>PoolQC  </th><th>Fence  </th><th>MiscFeature  </th><th>MiscVal           </th><th>MoSold            </th><th>YrSold            </th><th>SaleType  </th><th>SaleCondition  </th><th>SalePrice         </th></tr>\n",
       "</thead>\n",
       "<tbody>\n",
       "<tr><td>type   </td><td>int              </td><td>real              </td><td>int              </td><td>enum      </td><td>real              </td><td>int              </td><td>enum    </td><td>enum   </td><td>enum      </td><td>enum         </td><td>enum       </td><td>enum       </td><td>enum       </td><td>enum          </td><td>enum        </td><td>enum        </td><td>enum      </td><td>enum        </td><td>int               </td><td>int               </td><td>int               </td><td>int               </td><td>enum       </td><td>enum      </td><td>enum         </td><td>enum         </td><td>enum        </td><td>int               </td><td>enum       </td><td>enum       </td><td>enum        </td><td>enum      </td><td>enum      </td><td>enum          </td><td>enum          </td><td>int               </td><td>enum          </td><td>int               </td><td>int               </td><td>int              </td><td>enum     </td><td>enum       </td><td>enum        </td><td>enum        </td><td>int               </td><td>int               </td><td>int              </td><td>int               </td><td>int                </td><td>int                 </td><td>int                </td><td>int                </td><td>int               </td><td>int                </td><td>enum         </td><td>int               </td><td>enum        </td><td>int                </td><td>enum         </td><td>enum        </td><td>real              </td><td>enum          </td><td>int               </td><td>int               </td><td>enum        </td><td>enum        </td><td>enum        </td><td>int               </td><td>int               </td><td>int              </td><td>int        </td><td>int              </td><td>int       </td><td>enum    </td><td>enum   </td><td>enum         </td><td>int               </td><td>int               </td><td>int               </td><td>enum      </td><td>enum           </td><td>int               </td></tr>\n",
       "<tr><td>mins   </td><td>53.0             </td><td>11.136341223307573</td><td>20.0             </td><td>          </td><td>21.0              </td><td>1491.0           </td><td>        </td><td>       </td><td>          </td><td>             </td><td>           </td><td>           </td><td>           </td><td>              </td><td>            </td><td>            </td><td>          </td><td>            </td><td>1.0               </td><td>1.0               </td><td>1900.0            </td><td>1950.0            </td><td>           </td><td>          </td><td>             </td><td>             </td><td>            </td><td>0.0               </td><td>           </td><td>           </td><td>            </td><td>          </td><td>          </td><td>              </td><td>              </td><td>0.0               </td><td>              </td><td>0.0               </td><td>0.0               </td><td>0.0              </td><td>         </td><td>           </td><td>            </td><td>            </td><td>483.0             </td><td>0.0               </td><td>0.0              </td><td>630.0             </td><td>0.0                </td><td>0.0                 </td><td>0.0                </td><td>0.0                </td><td>1.0               </td><td>1.0                </td><td>             </td><td>3.0               </td><td>            </td><td>0.0                </td><td>             </td><td>            </td><td>1920.0            </td><td>              </td><td>0.0               </td><td>0.0               </td><td>            </td><td>            </td><td>            </td><td>0.0               </td><td>0.0               </td><td>0.0              </td><td>0.0        </td><td>0.0              </td><td>0.0       </td><td>        </td><td>       </td><td>             </td><td>0.0               </td><td>1.0               </td><td>2006.0            </td><td>          </td><td>               </td><td>61000.0           </td></tr>\n",
       "<tr><td>mean   </td><td>631.3571428571429</td><td>11.445483168456398</td><td>67.85714285714286</td><td>          </td><td>58.52737797866857 </td><td>7939.309523809523</td><td>        </td><td>       </td><td>          </td><td>             </td><td>           </td><td>           </td><td>           </td><td>              </td><td>            </td><td>            </td><td>          </td><td>            </td><td>4.547619047619048 </td><td>4.904761904761905 </td><td>1940.404761904762 </td><td>1958.4523809523814</td><td>           </td><td>          </td><td>             </td><td>             </td><td>            </td><td>31.928571428571416</td><td>           </td><td>           </td><td>            </td><td>          </td><td>          </td><td>              </td><td>              </td><td>123.78571428571429</td><td>              </td><td>33.904761904761905</td><td>507.78571428571433</td><td>665.4761904761906</td><td>         </td><td>           </td><td>            </td><td>            </td><td>792.9285714285712 </td><td>230.047619047619  </td><td>8.571428571428571</td><td>1031.5476190476193</td><td>0.23809523809523808</td><td>0.023809523809523808</td><td>1.047619047619048  </td><td>0.16666666666666666</td><td>2.2619047619047628</td><td>1.0238095238095237 </td><td>             </td><td>5.142857142857143 </td><td>            </td><td>0.11904761904761904</td><td>             </td><td>            </td><td>1960.1319796954313</td><td>              </td><td>1.2380952380952384</td><td>326.5952380952381 </td><td>            </td><td>            </td><td>            </td><td>27.476190476190478</td><td>18.714285714285715</td><td>50.61904761904762</td><td>0.0        </td><td>4.0              </td><td>0.0       </td><td>        </td><td>       </td><td>             </td><td>33.57142857142857 </td><td>6.285714285714286 </td><td>2008.2142857142853</td><td>          </td><td>               </td><td>97707.14285714287 </td></tr>\n",
       "<tr><td>maxs   </td><td>1409.0           </td><td>11.591220699565149</td><td>190.0            </td><td>          </td><td>140.0             </td><td>21750.0          </td><td>        </td><td>       </td><td>          </td><td>             </td><td>           </td><td>           </td><td>           </td><td>              </td><td>            </td><td>            </td><td>          </td><td>            </td><td>6.0               </td><td>8.0               </td><td>1976.0            </td><td>2005.0            </td><td>           </td><td>          </td><td>             </td><td>             </td><td>            </td><td>408.0             </td><td>           </td><td>           </td><td>            </td><td>          </td><td>          </td><td>              </td><td>              </td><td>468.0             </td><td>              </td><td>712.0             </td><td>1095.0            </td><td>1095.0           </td><td>         </td><td>           </td><td>            </td><td>            </td><td>1306.0            </td><td>679.0             </td><td>360.0            </td><td>1774.0            </td><td>1.0                </td><td>1.0                 </td><td>2.0                </td><td>1.0                </td><td>4.0               </td><td>2.0                </td><td>             </td><td>9.0               </td><td>            </td><td>1.0                </td><td>             </td><td>            </td><td>2002.0            </td><td>              </td><td>3.0               </td><td>1248.0            </td><td>            </td><td>            </td><td>            </td><td>263.0             </td><td>172.0             </td><td>248.0            </td><td>0.0        </td><td>168.0            </td><td>0.0       </td><td>        </td><td>       </td><td>             </td><td>560.0             </td><td>12.0              </td><td>2010.0            </td><td>          </td><td>               </td><td>141000.0          </td></tr>\n",
       "<tr><td>sigma  </td><td>424.229794001396 </td><td>0.1234985446982605</td><td>52.66255736037884</td><td>          </td><td>25.158969274736904</td><td>4506.358881100455</td><td>        </td><td>       </td><td>          </td><td>             </td><td>           </td><td>           </td><td>           </td><td>              </td><td>            </td><td>            </td><td>          </td><td>            </td><td>0.9927144592868179</td><td>1.4618652270055505</td><td>20.333871206305275</td><td>14.862298645299347</td><td>           </td><td>          </td><td>             </td><td>             </td><td>            </td><td>85.14819014937595 </td><td>           </td><td>           </td><td>            </td><td>          </td><td>          </td><td>              </td><td>              </td><td>158.84453754540615</td><td>              </td><td>134.607615760304  </td><td>330.35528071798376</td><td>254.8931137149058</td><td>         </td><td>           </td><td>            </td><td>            </td><td>197.44791135980256</td><td>248.50852195045076</td><td>55.54920598635309</td><td>226.61767549741424</td><td>0.4310805374090423 </td><td>0.1543033499620919  </td><td>0.30860669992418377</td><td>0.3771954702329121 </td><td>0.7344991261521245</td><td>0.15430334996209188</td><td>             </td><td>1.2010448412950259</td><td>            </td><td>0.32777006756156785</td><td>             </td><td>            </td><td>22.704149792480276</td><td>              </td><td>0.790477589800477 </td><td>242.38319384746546</td><td>            </td><td>            </td><td>            </td><td>59.709556409313414</td><td>43.52251209699929 </td><td>70.29066911706352</td><td>0.0        </td><td>25.92296279363144</td><td>0.0       </td><td>        </td><td>       </td><td>             </td><td>123.83745106273095</td><td>2.8049234960717433</td><td>1.4903873172436695</td><td>          </td><td>               </td><td>18718.406134684552</td></tr>\n",
       "<tr><td>zeros  </td><td>0                </td><td>0                 </td><td>0                </td><td>          </td><td>0                 </td><td>0                </td><td>        </td><td>       </td><td>          </td><td>             </td><td>           </td><td>           </td><td>           </td><td>              </td><td>            </td><td>            </td><td>          </td><td>            </td><td>0                 </td><td>0                 </td><td>0                 </td><td>0                 </td><td>           </td><td>          </td><td>             </td><td>             </td><td>            </td><td>35                </td><td>           </td><td>           </td><td>            </td><td>          </td><td>          </td><td>              </td><td>              </td><td>23                </td><td>              </td><td>39                </td><td>6                 </td><td>3                </td><td>         </td><td>           </td><td>            </td><td>            </td><td>0                 </td><td>21                </td><td>41               </td><td>0                 </td><td>32                 </td><td>41                  </td><td>1                  </td><td>35                 </td><td>0                 </td><td>0                  </td><td>             </td><td>0                 </td><td>            </td><td>37                 </td><td>             </td><td>            </td><td>0                 </td><td>              </td><td>7                 </td><td>7                 </td><td>            </td><td>            </td><td>            </td><td>32                </td><td>33                </td><td>25               </td><td>42         </td><td>41               </td><td>42        </td><td>        </td><td>       </td><td>             </td><td>39                </td><td>0                 </td><td>0                 </td><td>          </td><td>               </td><td>0                 </td></tr>\n",
       "<tr><td>missing</td><td>0                </td><td>0                 </td><td>0                </td><td>0         </td><td>0                 </td><td>0                </td><td>0       </td><td>0      </td><td>0         </td><td>0            </td><td>0          </td><td>0          </td><td>0          </td><td>0             </td><td>0           </td><td>0           </td><td>0         </td><td>0           </td><td>0                 </td><td>0                 </td><td>0                 </td><td>0                 </td><td>0          </td><td>0         </td><td>0            </td><td>0            </td><td>0           </td><td>0                 </td><td>0          </td><td>0          </td><td>0           </td><td>0         </td><td>0         </td><td>0             </td><td>0             </td><td>0                 </td><td>0             </td><td>0                 </td><td>0                 </td><td>0                </td><td>0        </td><td>0          </td><td>0           </td><td>0           </td><td>0                 </td><td>0                 </td><td>0                </td><td>0                 </td><td>0                  </td><td>0                   </td><td>0                  </td><td>0                  </td><td>0                 </td><td>0                  </td><td>0            </td><td>0                 </td><td>0           </td><td>0                  </td><td>0            </td><td>0           </td><td>0                 </td><td>0             </td><td>0                 </td><td>0                 </td><td>0           </td><td>0           </td><td>0           </td><td>0                 </td><td>0                 </td><td>0                </td><td>0          </td><td>0                </td><td>0         </td><td>0       </td><td>0      </td><td>0            </td><td>0                 </td><td>0                 </td><td>0                 </td><td>0         </td><td>0              </td><td>0                 </td></tr>\n",
       "<tr><td>0      </td><td>936.0            </td><td>11.136341223307573</td><td>30.0             </td><td>RL        </td><td>52.0              </td><td>5825.0           </td><td>Pave    </td><td>nan    </td><td>IR1       </td><td>Lvl          </td><td>AllPub     </td><td>Inside     </td><td>Gtl        </td><td>BrkSide       </td><td>Norm        </td><td>Norm        </td><td>1Fam      </td><td>1Story      </td><td>4.0               </td><td>5.0               </td><td>1926.0            </td><td>1953.0            </td><td>Gable      </td><td>CompShg   </td><td>MetalSd      </td><td>MetalSd      </td><td>BrkFace     </td><td>108.0             </td><td>TA         </td><td>Gd         </td><td>PConc       </td><td>Fa        </td><td>TA        </td><td>Mn            </td><td>Unf           </td><td>0.0               </td><td>Unf           </td><td>0.0               </td><td>600.0             </td><td>600.0            </td><td>GasA     </td><td>Gd         </td><td>Y           </td><td>SBrkr       </td><td>747.0             </td><td>0.0               </td><td>0.0              </td><td>747.0             </td><td>0.0                </td><td>0.0                 </td><td>1.0                </td><td>0.0                </td><td>1.0               </td><td>1.0                </td><td>TA           </td><td>5.0               </td><td>Typ         </td><td>0.0                </td><td>nan          </td><td>Detchd      </td><td>1953.0            </td><td>Unf           </td><td>2.0               </td><td>528.0             </td><td>TA          </td><td>TA          </td><td>Y           </td><td>0.0               </td><td>0.0               </td><td>32.0             </td><td>0.0        </td><td>0.0              </td><td>0.0       </td><td>nan     </td><td>nan    </td><td>nan          </td><td>0.0               </td><td>6.0               </td><td>2006.0            </td><td>WD        </td><td>Normal         </td><td>79900.0           </td></tr>\n",
       "<tr><td>1      </td><td>971.0            </td><td>11.193951324663018</td><td>50.0             </td><td>RL        </td><td>60.0              </td><td>10800.0          </td><td>Pave    </td><td>nan    </td><td>Reg       </td><td>Lvl          </td><td>AllPub     </td><td>Inside     </td><td>Gtl        </td><td>NAmes         </td><td>Norm        </td><td>Norm        </td><td>1Fam      </td><td>1.5Fin      </td><td>4.0               </td><td>4.0               </td><td>1949.0            </td><td>1950.0            </td><td>Gable      </td><td>CompShg   </td><td>AsbShng      </td><td>AsbShng      </td><td>None        </td><td>0.0               </td><td>TA         </td><td>TA         </td><td>CBlock      </td><td>TA        </td><td>TA        </td><td>No            </td><td>Unf           </td><td>0.0               </td><td>Unf           </td><td>0.0               </td><td>720.0             </td><td>720.0            </td><td>GasA     </td><td>TA         </td><td>N           </td><td>FuseA       </td><td>720.0             </td><td>472.0             </td><td>0.0              </td><td>1192.0            </td><td>0.0                </td><td>0.0                 </td><td>1.0                </td><td>1.0                </td><td>4.0               </td><td>1.0                </td><td>TA           </td><td>6.0               </td><td>Typ         </td><td>0.0                </td><td>nan          </td><td>nan         </td><td>1978.5061638868744</td><td>nan           </td><td>0.0               </td><td>0.0               </td><td>nan         </td><td>nan         </td><td>Y           </td><td>0.0               </td><td>0.0               </td><td>0.0              </td><td>0.0        </td><td>0.0              </td><td>0.0       </td><td>nan     </td><td>nan    </td><td>nan          </td><td>0.0               </td><td>12.0              </td><td>2006.0            </td><td>WD        </td><td>Abnorml        </td><td>135000.0          </td></tr>\n",
       "<tr><td>2      </td><td>376.0            </td><td>11.205781159037624</td><td>30.0             </td><td>RL        </td><td>70.04995836802665 </td><td>10020.0          </td><td>Pave    </td><td>nan    </td><td>IR1       </td><td>Low          </td><td>AllPub     </td><td>Inside     </td><td>Sev        </td><td>Edwards       </td><td>Norm        </td><td>Norm        </td><td>1Fam      </td><td>1Story      </td><td>1.0               </td><td>1.0               </td><td>1922.0            </td><td>1950.0            </td><td>Gable      </td><td>CompShg   </td><td>Wd Sdng      </td><td>Wd Sdng      </td><td>None        </td><td>0.0               </td><td>Fa         </td><td>Fa         </td><td>BrkTil      </td><td>Fa        </td><td>Po        </td><td>Gd            </td><td>BLQ           </td><td>350.0             </td><td>Unf           </td><td>0.0               </td><td>333.0             </td><td>683.0            </td><td>GasA     </td><td>Gd         </td><td>N           </td><td>FuseA       </td><td>904.0             </td><td>0.0               </td><td>0.0              </td><td>904.0             </td><td>1.0                </td><td>0.0                 </td><td>0.0                </td><td>1.0                </td><td>1.0               </td><td>1.0                </td><td>Fa           </td><td>4.0               </td><td>Maj1        </td><td>0.0                </td><td>nan          </td><td>nan         </td><td>1978.5061638868744</td><td>nan           </td><td>0.0               </td><td>0.0               </td><td>nan         </td><td>nan         </td><td>Y           </td><td>0.0               </td><td>0.0               </td><td>0.0              </td><td>0.0        </td><td>0.0              </td><td>0.0       </td><td>nan     </td><td>nan    </td><td>nan          </td><td>0.0               </td><td>3.0               </td><td>2009.0            </td><td>WD        </td><td>Normal         </td><td>61000.0           </td></tr>\n",
       "<tr><td>3      </td><td>1219.0           </td><td>11.230692268252628</td><td>50.0             </td><td>RM        </td><td>52.0              </td><td>6240.0           </td><td>Pave    </td><td>nan    </td><td>Reg       </td><td>Lvl          </td><td>AllPub     </td><td>Inside     </td><td>Gtl        </td><td>BrkSide       </td><td>Norm        </td><td>Norm        </td><td>1Fam      </td><td>1.5Fin      </td><td>4.0               </td><td>5.0               </td><td>1947.0            </td><td>1950.0            </td><td>Gable      </td><td>CompShg   </td><td>AsbShng      </td><td>AsbShng      </td><td>None        </td><td>0.0               </td><td>TA         </td><td>TA         </td><td>Slab        </td><td>nan       </td><td>nan       </td><td>nan           </td><td>nan           </td><td>0.0               </td><td>nan           </td><td>0.0               </td><td>0.0               </td><td>0.0              </td><td>GasA     </td><td>Gd         </td><td>N           </td><td>SBrkr       </td><td>672.0             </td><td>240.0             </td><td>0.0              </td><td>912.0             </td><td>0.0                </td><td>0.0                 </td><td>1.0                </td><td>0.0                </td><td>2.0               </td><td>1.0                </td><td>TA           </td><td>3.0               </td><td>Typ         </td><td>0.0                </td><td>nan          </td><td>nan         </td><td>1978.5061638868744</td><td>nan           </td><td>0.0               </td><td>0.0               </td><td>nan         </td><td>nan         </td><td>N           </td><td>0.0               </td><td>0.0               </td><td>0.0              </td><td>0.0        </td><td>0.0              </td><td>0.0       </td><td>nan     </td><td>nan    </td><td>nan          </td><td>0.0               </td><td>7.0               </td><td>2006.0            </td><td>WD        </td><td>Normal         </td><td>80500.0           </td></tr>\n",
       "<tr><td>4      </td><td>1280.0           </td><td>11.241339750835278</td><td>50.0             </td><td>C (all)   </td><td>60.0              </td><td>7500.0           </td><td>Pave    </td><td>nan    </td><td>Reg       </td><td>Lvl          </td><td>AllPub     </td><td>Inside     </td><td>Gtl        </td><td>IDOTRR        </td><td>Norm        </td><td>Norm        </td><td>1Fam      </td><td>1.5Fin      </td><td>4.0               </td><td>4.0               </td><td>1920.0            </td><td>1950.0            </td><td>Gable      </td><td>CompShg   </td><td>MetalSd      </td><td>MetalSd      </td><td>None        </td><td>0.0               </td><td>TA         </td><td>Gd         </td><td>CBlock      </td><td>TA        </td><td>TA        </td><td>No            </td><td>Unf           </td><td>0.0               </td><td>Unf           </td><td>0.0               </td><td>698.0             </td><td>698.0            </td><td>GasA     </td><td>TA         </td><td>Y           </td><td>FuseA       </td><td>698.0             </td><td>430.0             </td><td>0.0              </td><td>1128.0            </td><td>0.0                </td><td>0.0                 </td><td>1.0                </td><td>0.0                </td><td>2.0               </td><td>1.0                </td><td>TA           </td><td>6.0               </td><td>Typ         </td><td>0.0                </td><td>nan          </td><td>Detchd      </td><td>1980.0            </td><td>RFn           </td><td>2.0               </td><td>528.0             </td><td>TA          </td><td>TA          </td><td>Y           </td><td>30.0              </td><td>0.0               </td><td>164.0            </td><td>0.0        </td><td>0.0              </td><td>0.0       </td><td>nan     </td><td>nan    </td><td>nan          </td><td>0.0               </td><td>4.0               </td><td>2010.0            </td><td>COD       </td><td>Abnorml        </td><td>68400.0           </td></tr>\n",
       "<tr><td>5      </td><td>218.0            </td><td>11.260406983001463</td><td>70.0             </td><td>RM        </td><td>57.0              </td><td>9906.0           </td><td>Pave    </td><td>Grvl   </td><td>Reg       </td><td>Lvl          </td><td>AllPub     </td><td>Inside     </td><td>Gtl        </td><td>OldTown       </td><td>Norm        </td><td>Norm        </td><td>1Fam      </td><td>2Story      </td><td>4.0               </td><td>4.0               </td><td>1925.0            </td><td>1950.0            </td><td>Gable      </td><td>CompShg   </td><td>MetalSd      </td><td>MetalSd      </td><td>None        </td><td>0.0               </td><td>TA         </td><td>TA         </td><td>CBlock      </td><td>TA        </td><td>TA        </td><td>No            </td><td>Unf           </td><td>0.0               </td><td>Unf           </td><td>0.0               </td><td>686.0             </td><td>686.0            </td><td>GasA     </td><td>Fa         </td><td>N           </td><td>SBrkr       </td><td>810.0             </td><td>518.0             </td><td>0.0              </td><td>1328.0            </td><td>0.0                </td><td>0.0                 </td><td>1.0                </td><td>0.0                </td><td>3.0               </td><td>1.0                </td><td>TA           </td><td>8.0               </td><td>Typ         </td><td>0.0                </td><td>nan          </td><td>Detchd      </td><td>1940.0            </td><td>Unf           </td><td>1.0               </td><td>210.0             </td><td>TA          </td><td>TA          </td><td>Y           </td><td>0.0               </td><td>172.0             </td><td>60.0             </td><td>0.0        </td><td>0.0              </td><td>0.0       </td><td>nan     </td><td>nan    </td><td>nan          </td><td>0.0               </td><td>9.0               </td><td>2006.0            </td><td>WD        </td><td>Family         </td><td>107000.0          </td></tr>\n",
       "<tr><td>6      </td><td>1213.0           </td><td>11.295123118271306</td><td>30.0             </td><td>RL        </td><td>50.0              </td><td>9340.0           </td><td>Pave    </td><td>nan    </td><td>Reg       </td><td>Lvl          </td><td>AllPub     </td><td>Inside     </td><td>Gtl        </td><td>Edwards       </td><td>Norm        </td><td>Norm        </td><td>1Fam      </td><td>1Story      </td><td>4.0               </td><td>6.0               </td><td>1941.0            </td><td>1950.0            </td><td>Hip        </td><td>CompShg   </td><td>MetalSd      </td><td>MetalSd      </td><td>None        </td><td>0.0               </td><td>TA         </td><td>TA         </td><td>CBlock      </td><td>TA        </td><td>TA        </td><td>No            </td><td>Rec           </td><td>344.0             </td><td>Unf           </td><td>0.0               </td><td>328.0             </td><td>672.0            </td><td>GasA     </td><td>TA         </td><td>Y           </td><td>SBrkr       </td><td>672.0             </td><td>0.0               </td><td>0.0              </td><td>672.0             </td><td>1.0                </td><td>0.0                 </td><td>1.0                </td><td>0.0                </td><td>2.0               </td><td>1.0                </td><td>TA           </td><td>4.0               </td><td>Typ         </td><td>0.0                </td><td>nan          </td><td>Attchd      </td><td>1941.0            </td><td>Unf           </td><td>1.0               </td><td>234.0             </td><td>TA          </td><td>TA          </td><td>N           </td><td>0.0               </td><td>113.0             </td><td>0.0              </td><td>0.0        </td><td>0.0              </td><td>0.0       </td><td>nan     </td><td>nan    </td><td>nan          </td><td>0.0               </td><td>8.0               </td><td>2009.0            </td><td>WD        </td><td>Normal         </td><td>113000.0          </td></tr>\n",
       "<tr><td>7      </td><td>330.0            </td><td>11.342910541485862</td><td>70.0             </td><td>RM        </td><td>60.0              </td><td>6402.0           </td><td>Pave    </td><td>nan    </td><td>Reg       </td><td>Lvl          </td><td>AllPub     </td><td>Corner     </td><td>Gtl        </td><td>IDOTRR        </td><td>Norm        </td><td>Norm        </td><td>1Fam      </td><td>2Story      </td><td>5.0               </td><td>5.0               </td><td>1920.0            </td><td>1950.0            </td><td>Gable      </td><td>CompShg   </td><td>Wd Sdng      </td><td>Wd Shng      </td><td>None        </td><td>0.0               </td><td>TA         </td><td>TA         </td><td>PConc       </td><td>TA        </td><td>TA        </td><td>Mn            </td><td>Unf           </td><td>0.0               </td><td>Unf           </td><td>0.0               </td><td>596.0             </td><td>596.0            </td><td>GasA     </td><td>TA         </td><td>N           </td><td>SBrkr       </td><td>596.0             </td><td>596.0             </td><td>0.0              </td><td>1192.0            </td><td>0.0                </td><td>0.0                 </td><td>1.0                </td><td>0.0                </td><td>3.0               </td><td>1.0                </td><td>TA           </td><td>6.0               </td><td>Typ         </td><td>0.0                </td><td>nan          </td><td>Detchd      </td><td>1920.0            </td><td>Unf           </td><td>1.0               </td><td>189.0             </td><td>Fa          </td><td>Fa          </td><td>N           </td><td>0.0               </td><td>0.0               </td><td>137.0            </td><td>0.0        </td><td>0.0              </td><td>0.0       </td><td>nan     </td><td>GdWo   </td><td>nan          </td><td>0.0               </td><td>7.0               </td><td>2009.0            </td><td>WD        </td><td>Normal         </td><td>78000.0           </td></tr>\n",
       "<tr><td>8      </td><td>615.0            </td><td>11.345281776454076</td><td>180.0            </td><td>RM        </td><td>21.0              </td><td>1491.0           </td><td>Pave    </td><td>nan    </td><td>Reg       </td><td>Lvl          </td><td>AllPub     </td><td>Inside     </td><td>Gtl        </td><td>MeadowV       </td><td>Norm        </td><td>Norm        </td><td>TwnhsE    </td><td>SFoyer      </td><td>4.0               </td><td>6.0               </td><td>1972.0            </td><td>1972.0            </td><td>Gable      </td><td>CompShg   </td><td>CemntBd      </td><td>CmentBd      </td><td>None        </td><td>0.0               </td><td>TA         </td><td>TA         </td><td>CBlock      </td><td>Gd        </td><td>TA        </td><td>Av            </td><td>LwQ           </td><td>150.0             </td><td>GLQ           </td><td>480.0             </td><td>0.0               </td><td>630.0            </td><td>GasA     </td><td>Ex         </td><td>Y           </td><td>SBrkr       </td><td>630.0             </td><td>0.0               </td><td>0.0              </td><td>630.0             </td><td>1.0                </td><td>0.0                 </td><td>1.0                </td><td>0.0                </td><td>1.0               </td><td>1.0                </td><td>TA           </td><td>3.0               </td><td>Typ         </td><td>0.0                </td><td>nan          </td><td>nan         </td><td>1978.5061638868744</td><td>nan           </td><td>0.0               </td><td>0.0               </td><td>nan         </td><td>nan         </td><td>Y           </td><td>96.0              </td><td>24.0              </td><td>0.0              </td><td>0.0        </td><td>0.0              </td><td>0.0       </td><td>nan     </td><td>nan    </td><td>nan          </td><td>0.0               </td><td>5.0               </td><td>2010.0            </td><td>WD        </td><td>Normal         </td><td>75500.0           </td></tr>\n",
       "<tr><td>9      </td><td>1145.0           </td><td>11.349163672601579</td><td>190.0            </td><td>RL        </td><td>60.0              </td><td>12180.0          </td><td>Pave    </td><td>nan    </td><td>Reg       </td><td>Lvl          </td><td>AllPub     </td><td>Inside     </td><td>Gtl        </td><td>Edwards       </td><td>Norm        </td><td>Norm        </td><td>2fmCon    </td><td>1.5Fin      </td><td>4.0               </td><td>4.0               </td><td>1941.0            </td><td>1950.0            </td><td>Gable      </td><td>CompShg   </td><td>MetalSd      </td><td>MetalSd      </td><td>None        </td><td>0.0               </td><td>TA         </td><td>Fa         </td><td>BrkTil      </td><td>Gd        </td><td>TA        </td><td>No            </td><td>BLQ           </td><td>348.0             </td><td>Unf           </td><td>0.0               </td><td>324.0             </td><td>672.0            </td><td>Grav     </td><td>Fa         </td><td>N           </td><td>FuseA       </td><td>672.0             </td><td>252.0             </td><td>0.0              </td><td>924.0             </td><td>1.0                </td><td>0.0                 </td><td>1.0                </td><td>0.0                </td><td>2.0               </td><td>1.0                </td><td>Fa           </td><td>5.0               </td><td>Typ         </td><td>0.0                </td><td>nan          </td><td>Detchd      </td><td>1941.0            </td><td>Unf           </td><td>1.0               </td><td>280.0             </td><td>TA          </td><td>TA          </td><td>Y           </td><td>0.0               </td><td>0.0               </td><td>0.0              </td><td>0.0        </td><td>0.0              </td><td>0.0       </td><td>nan     </td><td>MnPrv  </td><td>nan          </td><td>0.0               </td><td>7.0               </td><td>2010.0            </td><td>WD        </td><td>Normal         </td><td>80000.0           </td></tr>\n",
       "</tbody>\n",
       "</table>"
      ]
     },
     "metadata": {},
     "output_type": "display_data"
    }
   ],
   "source": [
    "local_frame = preds.cbind(valid.drop(['Id'])).as_data_frame()\n",
    "local_frame.sort_values('predict', axis=0, inplace=True)\n",
    "local_frame = local_frame.iloc[0: local_frame.shape[0]//10, :]\n",
    "local_frame = h2o.H2OFrame(local_frame)\n",
    "local_frame['predict'] = local_frame['predict'].log()\n",
    "local_frame.describe()"
   ]
  },
  {
   "cell_type": "markdown",
   "metadata": {},
   "source": [
    "#### Train penalized linear model in local region "
   ]
  },
  {
   "cell_type": "code",
   "execution_count": 13,
   "metadata": {
    "collapsed": false
   },
   "outputs": [
    {
     "name": "stdout",
     "output_type": "stream",
     "text": [
      "glm Model Build progress: |███████████████████████████████████████████████| 100%\n",
      "\n",
      "Local GLM R-square:\n",
      "0.87\n",
      "\n",
      "Local GLM Coefficients:\n",
      "Intercept:                -11.833910383341271\n",
      "FullBath:                 -0.04745963104903873\n",
      "BsmtFullBath:             -0.029064485079254968\n",
      "BsmtHalfBath:             -0.01122329781353619\n",
      "MoSold:                   -0.00825307654087007\n",
      "MasVnrArea:               -0.0001254234355720385\n",
      "OpenPorchSF:              -0.0001181606524515615\n",
      "BsmtFinSF2:               -7.398608973769395e-05\n",
      "LowQualFinSF:             -6.722312555979058e-05\n",
      "BsmtUnfSF:                -2.192080766269977e-05\n",
      "LotArea:                  -4.316937341612357e-06\n",
      "WoodDeckSF:               4.19111621480246e-05\n",
      "GarageArea:               7.510500740265357e-05\n",
      "GrLivArea:                0.0001123547789841651\n",
      "YearRemodAdd:             0.00020428577699615393\n",
      "BsmtFinSF1:               0.00022724927216996547\n",
      "MSSubClass:               0.0003986189107460525\n",
      "1stFlrSF:                 0.00042793087784494293\n",
      "ScreenPorch:              0.0009479664101848816\n",
      "LotFrontage:              0.0016711210512961499\n",
      "YearBuilt:                0.0026887207793736705\n",
      "YrSold:                   0.008243552666250013\n",
      "BedroomAbvGr:             0.011623600766374385\n",
      "OverallCond:              0.026576002215009456\n",
      "Fireplaces:               0.061271386549469904\n",
      "OverallQual:              0.06902624364147839\n",
      "KitchenAbvGr:             0.1516450363427243\n"
     ]
    }
   ],
   "source": [
    "# initialize\n",
    "local_glm = H2OGeneralizedLinearEstimator(lambda_search=True)\n",
    "\n",
    "# train \n",
    "local_glm.train(x=X_reals_decorr, y='predict', training_frame=local_frame)\n",
    "\n",
    "print('\\nLocal GLM R-square:\\n%.2f' % local_glm.r2())\n",
    "print('\\nLocal GLM Coefficients:')\n",
    "for c_name, c_val in sorted(local_glm.coef().items(), key=operator.itemgetter(1)):\n",
    "    if c_val != 0.0:\n",
    "        print('%s %s' % (str(c_name + ':').ljust(25), c_val))"
   ]
  },
  {
   "cell_type": "markdown",
   "metadata": {},
   "source": [
    "#### Shutdown H2O"
   ]
  },
  {
   "cell_type": "code",
   "execution_count": 14,
   "metadata": {
    "collapsed": false
   },
   "outputs": [
    {
     "name": "stdout",
     "output_type": "stream",
     "text": [
      "Are you sure you want to shutdown the H2O instance running at http://127.0.0.1:54321 (Y/N)? y\n",
      "H2O session _sid_837e closed.\n"
     ]
    }
   ],
   "source": [
    "h2o.cluster().shutdown(prompt=True)"
   ]
  }
 ],
 "metadata": {
  "anaconda-cloud": {},
  "kernelspec": {
   "display_name": "Python [conda root]",
   "language": "python",
   "name": "conda-root-py"
  },
  "language_info": {
   "codemirror_mode": {
    "name": "ipython",
    "version": 3
   },
   "file_extension": ".py",
   "mimetype": "text/x-python",
   "name": "python",
   "nbconvert_exporter": "python",
   "pygments_lexer": "ipython3",
   "version": "3.5.2"
  }
 },
 "nbformat": 4,
 "nbformat_minor": 2
}
