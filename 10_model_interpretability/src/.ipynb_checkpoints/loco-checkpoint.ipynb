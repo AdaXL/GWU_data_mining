{
 "cells": [
  {
   "cell_type": "markdown",
   "metadata": {},
   "source": [
    "# License \n",
    "***\n",
    "Copyright 2017 J. Patrick Hall, jphall@gwu.edu\n",
    "\n",
    "Permission is hereby granted, free of charge, to any person obtaining a copy of this software and associated documentation files (the \"Software\"), to deal in the Software without restriction, including without limitation the rights to use, copy, modify, merge, publish, distribute, sublicense, and/or sell copies of the Software, and to permit persons to whom the Software is furnished to do so, subject to the following conditions:\n",
    "\n",
    "The above copyright notice and this permission notice shall be included in all copies or substantial portions of the Software.\n",
    "\n",
    "THE SOFTWARE IS PROVIDED \"AS IS\", WITHOUT WARRANTY OF ANY KIND, EXPRESS OR IMPLIED, INCLUDING BUT NOT LIMITED TO THE WARRANTIES OF MERCHANTABILITY, FITNESS FOR A PARTICULAR PURPOSE AND NONINFRINGEMENT. IN NO EVENT SHALL THE AUTHORS OR COPYRIGHT HOLDERS BE LIABLE FOR ANY CLAIM, DAMAGES OR OTHER LIABILITY, WHETHER IN AN ACTION OF CONTRACT, TORT OR OTHERWISE, ARISING FROM, OUT OF OR IN CONNECTION WITH THE SOFTWARE OR THE USE OR OTHER DEALINGS IN THE SOFTWARE."
   ]
  },
  {
   "cell_type": "markdown",
   "metadata": {},
   "source": [
    "# Local Feature Importance and Reason Codes using LOCO\n",
    "***\n",
    "\n",
    "Based on: Lei, Jing, G’Sell, Max, Rinaldo, Alessandro, Tibshirani, Ryan J., and Wasserman, Larry. Distribution-free predictive inference for regression. *Journal of the American Statistical Association*, 2017.\n",
    "\n",
    "http://www.stat.cmu.edu/~ryantibs/papers/conformal.pdf"
   ]
  },
  {
   "cell_type": "markdown",
   "metadata": {},
   "source": [
    "## Preliminaries: imports, start h2o, load and clean data "
   ]
  },
  {
   "cell_type": "code",
   "execution_count": 1,
   "metadata": {
    "collapsed": false
   },
   "outputs": [],
   "source": [
    "# imports\n",
    "import h2o \n",
    "import numpy as np\n",
    "import pandas as pd\n",
    "from h2o.estimators.gbm import H2OGradientBoostingEstimator"
   ]
  },
  {
   "cell_type": "code",
   "execution_count": 2,
   "metadata": {
    "collapsed": false
   },
   "outputs": [
    {
     "name": "stdout",
     "output_type": "stream",
     "text": [
      "Checking whether there is an H2O instance running at http://localhost:54321..... not found.\n",
      "Attempting to start a local H2O server...\n",
      "  Java Version: java version \"1.8.0_112\"; Java(TM) SE Runtime Environment (build 1.8.0_112-b16); Java HotSpot(TM) 64-Bit Server VM (build 25.112-b16, mixed mode)\n",
      "  Starting server from /Users/phall/anaconda/lib/python3.5/site-packages/h2o/backend/bin/h2o.jar\n",
      "  Ice root: /var/folders/tc/0ss1l73113j3wdyjsxmy1j2r0000gn/T/tmpqg_lvz04\n",
      "  JVM stdout: /var/folders/tc/0ss1l73113j3wdyjsxmy1j2r0000gn/T/tmpqg_lvz04/h2o_phall_started_from_python.out\n",
      "  JVM stderr: /var/folders/tc/0ss1l73113j3wdyjsxmy1j2r0000gn/T/tmpqg_lvz04/h2o_phall_started_from_python.err\n",
      "  Server is running at http://127.0.0.1:54321\n",
      "Connecting to H2O server at http://127.0.0.1:54321... successful.\n"
     ]
    },
    {
     "data": {
      "text/html": [
       "<div style=\"overflow:auto\"><table style=\"width:50%\"><tr><td>H2O cluster uptime:</td>\n",
       "<td>01 secs</td></tr>\n",
       "<tr><td>H2O cluster version:</td>\n",
       "<td>3.12.0.1</td></tr>\n",
       "<tr><td>H2O cluster version age:</td>\n",
       "<td>23 days </td></tr>\n",
       "<tr><td>H2O cluster name:</td>\n",
       "<td>H2O_from_python_phall_qfswso</td></tr>\n",
       "<tr><td>H2O cluster total nodes:</td>\n",
       "<td>1</td></tr>\n",
       "<tr><td>H2O cluster free memory:</td>\n",
       "<td>3.556 Gb</td></tr>\n",
       "<tr><td>H2O cluster total cores:</td>\n",
       "<td>8</td></tr>\n",
       "<tr><td>H2O cluster allowed cores:</td>\n",
       "<td>8</td></tr>\n",
       "<tr><td>H2O cluster status:</td>\n",
       "<td>accepting new members, healthy</td></tr>\n",
       "<tr><td>H2O connection url:</td>\n",
       "<td>http://127.0.0.1:54321</td></tr>\n",
       "<tr><td>H2O connection proxy:</td>\n",
       "<td>None</td></tr>\n",
       "<tr><td>H2O internal security:</td>\n",
       "<td>False</td></tr>\n",
       "<tr><td>Python version:</td>\n",
       "<td>3.5.2 final</td></tr></table></div>"
      ],
      "text/plain": [
       "--------------------------  ------------------------------\n",
       "H2O cluster uptime:         01 secs\n",
       "H2O cluster version:        3.12.0.1\n",
       "H2O cluster version age:    23 days\n",
       "H2O cluster name:           H2O_from_python_phall_qfswso\n",
       "H2O cluster total nodes:    1\n",
       "H2O cluster free memory:    3.556 Gb\n",
       "H2O cluster total cores:    8\n",
       "H2O cluster allowed cores:  8\n",
       "H2O cluster status:         accepting new members, healthy\n",
       "H2O connection url:         http://127.0.0.1:54321\n",
       "H2O connection proxy:\n",
       "H2O internal security:      False\n",
       "Python version:             3.5.2 final\n",
       "--------------------------  ------------------------------"
      ]
     },
     "metadata": {},
     "output_type": "display_data"
    }
   ],
   "source": [
    "# start h2o\n",
    "h2o.init()\n",
    "h2o.remove_all()"
   ]
  },
  {
   "cell_type": "markdown",
   "metadata": {},
   "source": [
    "#### Load and prepare data for modeling"
   ]
  },
  {
   "cell_type": "code",
   "execution_count": 3,
   "metadata": {
    "collapsed": false
   },
   "outputs": [
    {
     "name": "stdout",
     "output_type": "stream",
     "text": [
      "Parse progress: |█████████████████████████████████████████████████████████| 100%\n"
     ]
    }
   ],
   "source": [
    "# load clean data\n",
    "path = '../../03_regression/data/train.csv'\n",
    "frame = h2o.import_file(path=path)"
   ]
  },
  {
   "cell_type": "code",
   "execution_count": 4,
   "metadata": {
    "collapsed": false
   },
   "outputs": [],
   "source": [
    "# assign target and inputs\n",
    "y = 'SalePrice'\n",
    "X = [name for name in frame.columns if name not in [y, 'Id']]"
   ]
  },
  {
   "cell_type": "markdown",
   "metadata": {},
   "source": [
    "#### LOCO is simpler to use with data containing no missing values"
   ]
  },
  {
   "cell_type": "code",
   "execution_count": 5,
   "metadata": {
    "collapsed": true
   },
   "outputs": [],
   "source": [
    "# determine column types\n",
    "# impute\n",
    "reals, enums = [], []\n",
    "for key, val in frame.types.items():\n",
    "    if key in X:\n",
    "        if val == 'enum':\n",
    "            enums.append(key)\n",
    "        else: \n",
    "            reals.append(key)\n",
    "            \n",
    "_ = frame[reals].impute(method='median')\n",
    "_ = frame[enums].impute(method='mode')"
   ]
  },
  {
   "cell_type": "code",
   "execution_count": 6,
   "metadata": {
    "collapsed": true
   },
   "outputs": [],
   "source": [
    "# split into training and validation\n",
    "train, valid = frame.split_frame([0.7])"
   ]
  },
  {
   "cell_type": "markdown",
   "metadata": {},
   "source": [
    "#### LOCO is unfit for use with data in which strong correlations exist between input variables"
   ]
  },
  {
   "cell_type": "code",
   "execution_count": 7,
   "metadata": {
    "collapsed": false
   },
   "outputs": [
    {
     "name": "stdout",
     "output_type": "stream",
     "text": [
      "GarageYrBlt YearBuilt\n",
      "TotalBsmtSF 1stFlrSF\n",
      "GrLivArea TotRmsAbvGrd\n",
      "TotRmsAbvGrd GrLivArea\n",
      "GarageCars GarageArea\n",
      "GarageArea GarageCars\n",
      "1stFlrSF TotalBsmtSF\n",
      "YearBuilt GarageYrBlt\n"
     ]
    }
   ],
   "source": [
    "# print out correlated pairs\n",
    "\n",
    "corr = train[reals].cor().as_data_frame()\n",
    "for i in range(0, corr.shape[0]):\n",
    "    for j in range(0, corr.shape[1]):\n",
    "        if i != j:\n",
    "            if np.abs(corr.iat[i, j]) > 0.7:\n",
    "                print(corr.columns[i], corr.columns[j])"
   ]
  },
  {
   "cell_type": "markdown",
   "metadata": {
    "collapsed": true
   },
   "source": [
    "#### Remove one var from each correlated pair"
   ]
  },
  {
   "cell_type": "code",
   "execution_count": 8,
   "metadata": {
    "collapsed": false
   },
   "outputs": [],
   "source": [
    "X_reals_decorr = [i for i in reals if i not in  ['GarageYrBlt', 'TotRmsAbvGrd', 'TotalBsmtSF', 'GarageCars']]"
   ]
  },
  {
   "cell_type": "markdown",
   "metadata": {},
   "source": [
    "## Train a predictive model"
   ]
  },
  {
   "cell_type": "code",
   "execution_count": 9,
   "metadata": {
    "collapsed": false
   },
   "outputs": [
    {
     "name": "stdout",
     "output_type": "stream",
     "text": [
      "gbm Model Build progress: |███████████████████████████████████████████████| 100%\n",
      "gbm prediction progress: |████████████████████████████████████████████████| 100%\n"
     ]
    }
   ],
   "source": [
    "# train GBM model\n",
    "model = H2OGradientBoostingEstimator(ntrees=100,\n",
    "                                     max_depth=10,\n",
    "                                     distribution='huber',\n",
    "                                     learn_rate=0.1,\n",
    "                                     stopping_rounds=5,\n",
    "                                     seed=12345)\n",
    "\n",
    "model.train(y=y, x=X_reals_decorr, training_frame=train, validation_frame=valid)\n",
    "\n",
    "preds = valid['Id'].cbind(model.predict(valid))"
   ]
  },
  {
   "cell_type": "markdown",
   "metadata": {},
   "source": [
    "## Retrain predictive model\n",
    "* Each time leaving one input (covariate) out \n",
    "* To generate local feature importance values for each decision"
   ]
  },
  {
   "cell_type": "code",
   "execution_count": 10,
   "metadata": {
    "collapsed": false
   },
   "outputs": [
    {
     "name": "stdout",
     "output_type": "stream",
     "text": [
      "LOCO Progress: BsmtFullBath (1/32) ...\n",
      "LOCO Progress: GrLivArea (2/32) ...\n",
      "LOCO Progress: OpenPorchSF (3/32) ...\n",
      "LOCO Progress: LotFrontage (4/32) ...\n",
      "LOCO Progress: GarageArea (5/32) ...\n",
      "LOCO Progress: MSSubClass (6/32) ...\n",
      "LOCO Progress: YrSold (7/32) ...\n",
      "LOCO Progress: BsmtUnfSF (8/32) ...\n",
      "LOCO Progress: 1stFlrSF (9/32) ...\n",
      "LOCO Progress: FullBath (10/32) ...\n",
      "LOCO Progress: MoSold (11/32) ...\n",
      "LOCO Progress: OverallQual (12/32) ...\n",
      "LOCO Progress: BsmtFinSF1 (13/32) ...\n",
      "LOCO Progress: EnclosedPorch (14/32) ...\n",
      "LOCO Progress: LotArea (15/32) ...\n",
      "LOCO Progress: KitchenAbvGr (16/32) ...\n",
      "LOCO Progress: BsmtHalfBath (17/32) ...\n",
      "LOCO Progress: HalfBath (18/32) ...\n",
      "LOCO Progress: BedroomAbvGr (19/32) ...\n",
      "LOCO Progress: ScreenPorch (20/32) ...\n",
      "LOCO Progress: OverallCond (21/32) ...\n",
      "LOCO Progress: YearRemodAdd (22/32) ...\n",
      "LOCO Progress: WoodDeckSF (23/32) ...\n",
      "LOCO Progress: PoolArea (24/32) ...\n",
      "LOCO Progress: MasVnrArea (25/32) ...\n",
      "LOCO Progress: YearBuilt (26/32) ...\n",
      "LOCO Progress: BsmtFinSF2 (27/32) ...\n",
      "LOCO Progress: MiscVal (28/32) ...\n",
      "LOCO Progress: 2ndFlrSF (29/32) ...\n",
      "LOCO Progress: Fireplaces (30/32) ...\n",
      "LOCO Progress: 3SsnPorch (31/32) ...\n",
      "LOCO Progress: LowQualFinSF (32/32) ...\n",
      "Done.\n"
     ]
    },
    {
     "data": {
      "text/html": [
       "<table>\n",
       "<thead>\n",
       "<tr><th style=\"text-align: right;\">  Id</th><th style=\"text-align: right;\">  predict</th><th style=\"text-align: right;\">  BsmtFullBath</th><th style=\"text-align: right;\">  GrLivArea</th><th style=\"text-align: right;\">  OpenPorchSF</th><th style=\"text-align: right;\">  LotFrontage</th><th style=\"text-align: right;\">  GarageArea</th><th style=\"text-align: right;\">  MSSubClass</th><th style=\"text-align: right;\">     YrSold</th><th style=\"text-align: right;\">  BsmtUnfSF</th><th style=\"text-align: right;\">   1stFlrSF</th><th style=\"text-align: right;\">  FullBath</th><th style=\"text-align: right;\">   MoSold</th><th style=\"text-align: right;\">  OverallQual</th><th style=\"text-align: right;\">  BsmtFinSF1</th><th style=\"text-align: right;\">  EnclosedPorch</th><th style=\"text-align: right;\">  LotArea</th><th style=\"text-align: right;\">  KitchenAbvGr</th><th style=\"text-align: right;\">  BsmtHalfBath</th><th style=\"text-align: right;\">  HalfBath</th><th style=\"text-align: right;\">  BedroomAbvGr</th><th style=\"text-align: right;\">  ScreenPorch</th><th style=\"text-align: right;\">  OverallCond</th><th style=\"text-align: right;\">  YearRemodAdd</th><th style=\"text-align: right;\">  WoodDeckSF</th><th style=\"text-align: right;\">  PoolArea</th><th style=\"text-align: right;\">  MasVnrArea</th><th style=\"text-align: right;\">  YearBuilt</th><th style=\"text-align: right;\">  BsmtFinSF2</th><th style=\"text-align: right;\">  MiscVal</th><th style=\"text-align: right;\">  2ndFlrSF</th><th style=\"text-align: right;\">  Fireplaces</th><th style=\"text-align: right;\">  3SsnPorch</th><th style=\"text-align: right;\">  LowQualFinSF</th></tr>\n",
       "</thead>\n",
       "<tbody>\n",
       "<tr><td style=\"text-align: right;\">   4</td><td style=\"text-align: right;\">   143924</td><td style=\"text-align: right;\">      -181.763</td><td style=\"text-align: right;\">  11097.9  </td><td style=\"text-align: right;\">    -2037.33 </td><td style=\"text-align: right;\">     9584.92 </td><td style=\"text-align: right;\">   -10053.4 </td><td style=\"text-align: right;\">    8489.31 </td><td style=\"text-align: right;\">    53.1301</td><td style=\"text-align: right;\">   1709.26 </td><td style=\"text-align: right;\">    93.8917</td><td style=\"text-align: right;\">  1329.36 </td><td style=\"text-align: right;\"> -4970.49</td><td style=\"text-align: right;\">      369.174</td><td style=\"text-align: right;\">    10853.8 </td><td style=\"text-align: right;\">         99.275</td><td style=\"text-align: right;\">  5484.26</td><td style=\"text-align: right;\">     -983.269 </td><td style=\"text-align: right;\">      -383.343</td><td style=\"text-align: right;\">  2602.04 </td><td style=\"text-align: right;\">      2455.13 </td><td style=\"text-align: right;\">     -366.172</td><td style=\"text-align: right;\">    10310.6  </td><td style=\"text-align: right;\">      15127.3 </td><td style=\"text-align: right;\">    6066.89 </td><td style=\"text-align: right;\">         0</td><td style=\"text-align: right;\">   -2351.86 </td><td style=\"text-align: right;\">    8639.82</td><td style=\"text-align: right;\">   -1720.48 </td><td style=\"text-align: right;\"> 4031.27 </td><td style=\"text-align: right;\">  6237.69 </td><td style=\"text-align: right;\">    -191.533</td><td style=\"text-align: right;\">  -404.387 </td><td style=\"text-align: right;\">      1810.06 </td></tr>\n",
       "<tr><td style=\"text-align: right;\">   7</td><td style=\"text-align: right;\">   279165</td><td style=\"text-align: right;\">      2649.08 </td><td style=\"text-align: right;\">  13175.4  </td><td style=\"text-align: right;\">   -15254.5  </td><td style=\"text-align: right;\">    -6829.13 </td><td style=\"text-align: right;\">    24494.3 </td><td style=\"text-align: right;\">   -4130.21 </td><td style=\"text-align: right;\">-12550.4   </td><td style=\"text-align: right;\">  15587.4  </td><td style=\"text-align: right;\">  2110.58  </td><td style=\"text-align: right;\"> -2185.43 </td><td style=\"text-align: right;\">-10873   </td><td style=\"text-align: right;\">   -19697.2  </td><td style=\"text-align: right;\">     4113.17</td><td style=\"text-align: right;\">     -11103.4  </td><td style=\"text-align: right;\"> -2420.8 </td><td style=\"text-align: right;\">    -2739.27  </td><td style=\"text-align: right;\">     -9106.66 </td><td style=\"text-align: right;\"> -2027.92 </td><td style=\"text-align: right;\">     -4175.25 </td><td style=\"text-align: right;\">    -3362.03 </td><td style=\"text-align: right;\">    -2641.22 </td><td style=\"text-align: right;\">     -16280.8 </td><td style=\"text-align: right;\">    3019.52 </td><td style=\"text-align: right;\">         0</td><td style=\"text-align: right;\">   10432.2  </td><td style=\"text-align: right;\">  -10091.3 </td><td style=\"text-align: right;\">   -6467.19 </td><td style=\"text-align: right;\">-8806.11 </td><td style=\"text-align: right;\">  3778.47 </td><td style=\"text-align: right;\">   -7834.61 </td><td style=\"text-align: right;\">   -99.6135</td><td style=\"text-align: right;\">     -5220.79 </td></tr>\n",
       "<tr><td style=\"text-align: right;\">   8</td><td style=\"text-align: right;\">   222796</td><td style=\"text-align: right;\">      -722.462</td><td style=\"text-align: right;\">  24811.5  </td><td style=\"text-align: right;\">    -1285.47 </td><td style=\"text-align: right;\">     1677.19 </td><td style=\"text-align: right;\">    14931.6 </td><td style=\"text-align: right;\">   12328.1  </td><td style=\"text-align: right;\"> 12256.4   </td><td style=\"text-align: right;\">   9930.65 </td><td style=\"text-align: right;\">  -141.228 </td><td style=\"text-align: right;\">  1753.16 </td><td style=\"text-align: right;\"> 15488.8 </td><td style=\"text-align: right;\">   -19846    </td><td style=\"text-align: right;\">     9813.43</td><td style=\"text-align: right;\">        991.413</td><td style=\"text-align: right;\"> 13632.1 </td><td style=\"text-align: right;\">     2509.75  </td><td style=\"text-align: right;\">     -2176.33 </td><td style=\"text-align: right;\"> -1371.29 </td><td style=\"text-align: right;\">      9526.64 </td><td style=\"text-align: right;\">    -1830.18 </td><td style=\"text-align: right;\">     6094.56 </td><td style=\"text-align: right;\">      -2583.42</td><td style=\"text-align: right;\">   -5537.88 </td><td style=\"text-align: right;\">         0</td><td style=\"text-align: right;\">    9754.72 </td><td style=\"text-align: right;\">    9881.58</td><td style=\"text-align: right;\">    4365.82 </td><td style=\"text-align: right;\"> 1319.16 </td><td style=\"text-align: right;\">  5291.82 </td><td style=\"text-align: right;\">    3778.8  </td><td style=\"text-align: right;\">  1175.65  </td><td style=\"text-align: right;\">      2943.26 </td></tr>\n",
       "<tr><td style=\"text-align: right;\">  10</td><td style=\"text-align: right;\">   123938</td><td style=\"text-align: right;\">     -1576.8  </td><td style=\"text-align: right;\">  17512.4  </td><td style=\"text-align: right;\">    -2003.29 </td><td style=\"text-align: right;\">     5590.39 </td><td style=\"text-align: right;\">    -2370.43</td><td style=\"text-align: right;\">     699.357</td><td style=\"text-align: right;\">  -329.282 </td><td style=\"text-align: right;\">   3338.9  </td><td style=\"text-align: right;\">-11163.4   </td><td style=\"text-align: right;\">  -844.826</td><td style=\"text-align: right;\"> -2237.8 </td><td style=\"text-align: right;\">    -2588.89 </td><td style=\"text-align: right;\">     6495.8 </td><td style=\"text-align: right;\">       1551.98 </td><td style=\"text-align: right;\"> -1262.76</td><td style=\"text-align: right;\">    -1460.06  </td><td style=\"text-align: right;\">       948.799</td><td style=\"text-align: right;\">   486.563</td><td style=\"text-align: right;\">       779.404</td><td style=\"text-align: right;\">    -3920.18 </td><td style=\"text-align: right;\">     -949.774</td><td style=\"text-align: right;\">      -1083.29</td><td style=\"text-align: right;\">    -288.243</td><td style=\"text-align: right;\">         0</td><td style=\"text-align: right;\">    -559.58 </td><td style=\"text-align: right;\">    4363.44</td><td style=\"text-align: right;\">   -3723.44 </td><td style=\"text-align: right;\">-3055.8  </td><td style=\"text-align: right;\">  1521    </td><td style=\"text-align: right;\">   -9439.58 </td><td style=\"text-align: right;\">  -706.602 </td><td style=\"text-align: right;\">     -1723.91 </td></tr>\n",
       "<tr><td style=\"text-align: right;\">  11</td><td style=\"text-align: right;\">   133766</td><td style=\"text-align: right;\">     -2312.09 </td><td style=\"text-align: right;\">  -2420.53 </td><td style=\"text-align: right;\">    -3087.77 </td><td style=\"text-align: right;\">    -2543.18 </td><td style=\"text-align: right;\">     1611.12</td><td style=\"text-align: right;\">   -3619.89 </td><td style=\"text-align: right;\"> -3697.63  </td><td style=\"text-align: right;\">   -105.723</td><td style=\"text-align: right;\">  1772.71  </td><td style=\"text-align: right;\"> -2264.74 </td><td style=\"text-align: right;\"> -3761.5 </td><td style=\"text-align: right;\">     -305.048</td><td style=\"text-align: right;\">    -5835.16</td><td style=\"text-align: right;\">      -3050.19 </td><td style=\"text-align: right;\"> -1660.6 </td><td style=\"text-align: right;\">    -2112.75  </td><td style=\"text-align: right;\">      1266.82 </td><td style=\"text-align: right;\"> -1499.16 </td><td style=\"text-align: right;\">      -442.327</td><td style=\"text-align: right;\">     -281.879</td><td style=\"text-align: right;\">    -1149.34 </td><td style=\"text-align: right;\">      -3491.56</td><td style=\"text-align: right;\">   -2523.73 </td><td style=\"text-align: right;\">         0</td><td style=\"text-align: right;\">    1313.59 </td><td style=\"text-align: right;\">   -2876.54</td><td style=\"text-align: right;\">   -1427.29 </td><td style=\"text-align: right;\"> -524.402</td><td style=\"text-align: right;\"> -4604.77 </td><td style=\"text-align: right;\">   -6704.37 </td><td style=\"text-align: right;\">  -154.606 </td><td style=\"text-align: right;\">       189.096</td></tr>\n",
       "<tr><td style=\"text-align: right;\">  12</td><td style=\"text-align: right;\">   335218</td><td style=\"text-align: right;\">     -2565.49 </td><td style=\"text-align: right;\">  -7372.62 </td><td style=\"text-align: right;\">    -6717.26 </td><td style=\"text-align: right;\">    10191.8  </td><td style=\"text-align: right;\">    15614.4 </td><td style=\"text-align: right;\">   -8394.13 </td><td style=\"text-align: right;\"> 14838.7   </td><td style=\"text-align: right;\">  32832.8  </td><td style=\"text-align: right;\"> 42229.6   </td><td style=\"text-align: right;\"> -5351.4  </td><td style=\"text-align: right;\"> 12398.5 </td><td style=\"text-align: right;\">   -28341.1  </td><td style=\"text-align: right;\">    -2151.71</td><td style=\"text-align: right;\">      -8258.32 </td><td style=\"text-align: right;\"> 16445.9 </td><td style=\"text-align: right;\">     2472.71  </td><td style=\"text-align: right;\">      9548.07 </td><td style=\"text-align: right;\"> 13172.4  </td><td style=\"text-align: right;\">     -1277.01 </td><td style=\"text-align: right;\">     3427.19 </td><td style=\"text-align: right;\">    -6453.23 </td><td style=\"text-align: right;\">      -8722.89</td><td style=\"text-align: right;\">   -8920.86 </td><td style=\"text-align: right;\">         0</td><td style=\"text-align: right;\">   28979.9  </td><td style=\"text-align: right;\">   32942.1 </td><td style=\"text-align: right;\">    7086.09 </td><td style=\"text-align: right;\"> 7409.81 </td><td style=\"text-align: right;\">  2881.66 </td><td style=\"text-align: right;\">   17445.2  </td><td style=\"text-align: right;\">   218.714 </td><td style=\"text-align: right;\">      5684.53 </td></tr>\n",
       "<tr><td style=\"text-align: right;\">  16</td><td style=\"text-align: right;\">   162529</td><td style=\"text-align: right;\">     -4681.19 </td><td style=\"text-align: right;\">  -4765.36 </td><td style=\"text-align: right;\">     1335.1  </td><td style=\"text-align: right;\">     -757.194</td><td style=\"text-align: right;\">    -8083.71</td><td style=\"text-align: right;\">   -2800.63 </td><td style=\"text-align: right;\"> -2292.72  </td><td style=\"text-align: right;\">   -750.35 </td><td style=\"text-align: right;\">  6263.4   </td><td style=\"text-align: right;\">   229.507</td><td style=\"text-align: right;\"> -3353.63</td><td style=\"text-align: right;\">   -53024.6  </td><td style=\"text-align: right;\">     1075.84</td><td style=\"text-align: right;\">      -3260.02 </td><td style=\"text-align: right;\">  1381.13</td><td style=\"text-align: right;\">     1748.88  </td><td style=\"text-align: right;\">     -1359.12 </td><td style=\"text-align: right;\">  -924.663</td><td style=\"text-align: right;\">     -6251.17 </td><td style=\"text-align: right;\">     -275.447</td><td style=\"text-align: right;\">      287.625</td><td style=\"text-align: right;\">      -7884.72</td><td style=\"text-align: right;\">   -1396.2  </td><td style=\"text-align: right;\">         0</td><td style=\"text-align: right;\">    -270.119</td><td style=\"text-align: right;\">    2815.19</td><td style=\"text-align: right;\">     334.9  </td><td style=\"text-align: right;\">  476.995</td><td style=\"text-align: right;\">   172.477</td><td style=\"text-align: right;\">   -3250.78 </td><td style=\"text-align: right;\">  -122.966 </td><td style=\"text-align: right;\">       555.435</td></tr>\n",
       "<tr><td style=\"text-align: right;\">  32</td><td style=\"text-align: right;\">   143346</td><td style=\"text-align: right;\">      1440.4  </td><td style=\"text-align: right;\"> -13308.4  </td><td style=\"text-align: right;\">      109.87 </td><td style=\"text-align: right;\">      349.527</td><td style=\"text-align: right;\">    -1272.23</td><td style=\"text-align: right;\">    2241.52 </td><td style=\"text-align: right;\">  -961.712 </td><td style=\"text-align: right;\">   -963.87 </td><td style=\"text-align: right;\"> -7263.89  </td><td style=\"text-align: right;\">  2107.15 </td><td style=\"text-align: right;\"> -3270.9 </td><td style=\"text-align: right;\">    -3583.71 </td><td style=\"text-align: right;\">    -1530.11</td><td style=\"text-align: right;\">       -948.427</td><td style=\"text-align: right;\"> -6221.9 </td><td style=\"text-align: right;\">      723.119 </td><td style=\"text-align: right;\">       359.45 </td><td style=\"text-align: right;\">  1341.46 </td><td style=\"text-align: right;\">       209.129</td><td style=\"text-align: right;\">      663.732</td><td style=\"text-align: right;\">    -4167.97 </td><td style=\"text-align: right;\">      -4477.03</td><td style=\"text-align: right;\">   -3815.05 </td><td style=\"text-align: right;\">         0</td><td style=\"text-align: right;\">    -386.2  </td><td style=\"text-align: right;\">    2298.1 </td><td style=\"text-align: right;\">    -924.249</td><td style=\"text-align: right;\"> 1732.71 </td><td style=\"text-align: right;\"> -2149.11 </td><td style=\"text-align: right;\">    3626.73 </td><td style=\"text-align: right;\">   -10.4564</td><td style=\"text-align: right;\">       408.681</td></tr>\n",
       "<tr><td style=\"text-align: right;\">  33</td><td style=\"text-align: right;\">   215753</td><td style=\"text-align: right;\">      1809.17 </td><td style=\"text-align: right;\">  -8795    </td><td style=\"text-align: right;\">    -1108.06 </td><td style=\"text-align: right;\">    -1804.07 </td><td style=\"text-align: right;\">    -1126.84</td><td style=\"text-align: right;\">   -4274.16 </td><td style=\"text-align: right;\">   967.568 </td><td style=\"text-align: right;\">  -9379.12 </td><td style=\"text-align: right;\"> -5444.33  </td><td style=\"text-align: right;\">  4265.23 </td><td style=\"text-align: right;\"> -9548.17</td><td style=\"text-align: right;\">   -20994.2  </td><td style=\"text-align: right;\">   -17163   </td><td style=\"text-align: right;\">       -678.409</td><td style=\"text-align: right;\">-20866.7 </td><td style=\"text-align: right;\">      -24.6924</td><td style=\"text-align: right;\">     -1685.22 </td><td style=\"text-align: right;\">   353.214</td><td style=\"text-align: right;\">     -3828.41 </td><td style=\"text-align: right;\">    -2141.99 </td><td style=\"text-align: right;\">     5787.15 </td><td style=\"text-align: right;\">       6935.32</td><td style=\"text-align: right;\">  -17250.1  </td><td style=\"text-align: right;\">         0</td><td style=\"text-align: right;\">  -12540.6  </td><td style=\"text-align: right;\">   -3150.72</td><td style=\"text-align: right;\">   -3063.63 </td><td style=\"text-align: right;\">-1658.02 </td><td style=\"text-align: right;\"> -3506.54 </td><td style=\"text-align: right;\">    3062.71 </td><td style=\"text-align: right;\">   901.645 </td><td style=\"text-align: right;\">      -769.107</td></tr>\n",
       "<tr><td style=\"text-align: right;\">  39</td><td style=\"text-align: right;\">   135533</td><td style=\"text-align: right;\">       254.471</td><td style=\"text-align: right;\">     46.972</td><td style=\"text-align: right;\">     -515.413</td><td style=\"text-align: right;\">     2334.78 </td><td style=\"text-align: right;\">     3489.5 </td><td style=\"text-align: right;\">    -656.877</td><td style=\"text-align: right;\">   673.744 </td><td style=\"text-align: right;\">   -482.466</td><td style=\"text-align: right;\">  4226.39  </td><td style=\"text-align: right;\"> -1646.25 </td><td style=\"text-align: right;\"> -1673.15</td><td style=\"text-align: right;\">      488.432</td><td style=\"text-align: right;\">     1254.26</td><td style=\"text-align: right;\">       1340.93 </td><td style=\"text-align: right;\">  3022.06</td><td style=\"text-align: right;\">    -1307.98  </td><td style=\"text-align: right;\">     -3339.28 </td><td style=\"text-align: right;\">  1120.83 </td><td style=\"text-align: right;\">       247.232</td><td style=\"text-align: right;\">      359.69 </td><td style=\"text-align: right;\">    -2190.83 </td><td style=\"text-align: right;\">      -1874.12</td><td style=\"text-align: right;\">    3269.77 </td><td style=\"text-align: right;\">         0</td><td style=\"text-align: right;\">    1448.97 </td><td style=\"text-align: right;\">    7294.83</td><td style=\"text-align: right;\">     182.647</td><td style=\"text-align: right;\">  200.183</td><td style=\"text-align: right;\">  -899.661</td><td style=\"text-align: right;\">    -950.259</td><td style=\"text-align: right;\">   250.957 </td><td style=\"text-align: right;\">       769.366</td></tr>\n",
       "</tbody>\n",
       "</table>"
      ]
     },
     "metadata": {},
     "output_type": "display_data"
    },
    {
     "data": {
      "text/plain": []
     },
     "execution_count": 10,
     "metadata": {},
     "output_type": "execute_result"
    }
   ],
   "source": [
    "h2o.no_progress()\n",
    "\n",
    "for k, i in enumerate(X_reals_decorr):\n",
    "\n",
    "    # train and predict without Xi\n",
    "    X_loco = [j for j in X_reals_decorr if j != i]\n",
    "    model.train(y=y, x=X_loco, training_frame=train, validation_frame=valid)\n",
    "    preds_loco = model.predict(valid)\n",
    "    \n",
    "    # create a new, named column for the LOCO prediction\n",
    "    preds_loco.columns = [i]\n",
    "    preds = preds.cbind(preds_loco)\n",
    "    \n",
    "    # subtract the LOCO prediction from \n",
    "    preds[i] = preds[i] - preds['predict']\n",
    "    \n",
    "    print('LOCO Progress: ' + i + ' (' + str(k+1) + '/' + str(len(X_reals_decorr)) + ') ...')\n",
    "    \n",
    "print('Done.')  \n",
    "\n",
    "preds.head()"
   ]
  },
  {
   "cell_type": "markdown",
   "metadata": {},
   "source": [
    "The numeric values in each column are an estimate of how much each variable contributed to each decision. These values can tell you how a variable and it's values were weighted in any given decision by the model. These values are crucially important for machine learning interpretability and are often to referred to \"local feature importance\", \"reason codes\", or \"turn-down codes.\" The latter phrases are borrowed from credit scoring. Credit lenders must provide reasons for turning down a credit application, even for automated decisions. Reason codes can be easily extracted from LOCO local feature importance values, by simply ranking the variables that played the largest role in any given decision."
   ]
  },
  {
   "cell_type": "markdown",
   "metadata": {},
   "source": [
    "#### Helper function for finding quantile indices"
   ]
  },
  {
   "cell_type": "code",
   "execution_count": 11,
   "metadata": {
    "collapsed": false
   },
   "outputs": [
    {
     "name": "stdout",
     "output_type": "stream",
     "text": [
      "{0: 637.0, 80: 1301.0, 50: 1272.0, 99: 692.0, 20: 874.0, 70: 920.0, 40: 74.0, 10: 150.0, 60: 1053.0, 90: 67.0, 30: 915.0}\n"
     ]
    }
   ],
   "source": [
    "def get_quantile_dict(y, id_, frame):\n",
    "\n",
    "    \"\"\" Returns the percentiles of a column y as the indices for another column id_.\n",
    "    \n",
    "    Args:\n",
    "        y: Column in which to find percentiles.\n",
    "        id_: Id column that stores indices for percentiles of y.\n",
    "        frame: H2OFrame containing y and id_. \n",
    "    \n",
    "    Returns:\n",
    "        Dictionary of percentile values and index column values.\n",
    "    \n",
    "    \"\"\"\n",
    "    \n",
    "    quantiles_df = frame.as_data_frame()\n",
    "    quantiles_df.sort_values(y, inplace=True)\n",
    "    quantiles_df.reset_index(inplace=True)\n",
    "    \n",
    "    percentiles_dict = {}\n",
    "    percentiles_dict[0] = quantiles_df.loc[0, id_]\n",
    "    percentiles_dict[99] = quantiles_df.loc[quantiles_df.shape[0]-1, id_]\n",
    "    inc = quantiles_df.shape[0]//10\n",
    "    \n",
    "    for i in range(1, 10):\n",
    "        percentiles_dict[i * 10] = quantiles_df.loc[i * inc,  id_]\n",
    "\n",
    "    return percentiles_dict\n",
    "\n",
    "quantile_dict = get_quantile_dict('predict', 'Id', preds)\n",
    "print(quantile_dict)"
   ]
  },
  {
   "cell_type": "markdown",
   "metadata": {},
   "source": [
    "#### Plot some reason codes for a representative row"
   ]
  },
  {
   "cell_type": "code",
   "execution_count": 12,
   "metadata": {
    "collapsed": true
   },
   "outputs": [],
   "source": [
    "%matplotlib inline"
   ]
  },
  {
   "cell_type": "code",
   "execution_count": 13,
   "metadata": {
    "collapsed": false
   },
   "outputs": [
    {
     "data": {
      "image/png": "[encoded data removed]",
      "text/plain": [
       "<matplotlib.figure.Figure at 0x118c52ba8>"
      ]
     },
     "metadata": {},
     "output_type": "display_data"
    }
   ],
   "source": [
    "median_loco = preds[preds['Id'] == int(quantile_dict[50]), :].as_data_frame().drop(['Id', 'predict'], axis=1)\n",
    "median_loco = median_loco.T.sort_values(by=0)[:5]\n",
    "_ = median_loco.plot(kind='bar', \n",
    "                     title='Negative Reason Codes for the Median of Predicted Sale Price\\n', \n",
    "                     legend=False)"
   ]
  },
  {
   "cell_type": "code",
   "execution_count": 14,
   "metadata": {
    "collapsed": false
   },
   "outputs": [
    {
     "data": {
      "image/png": "[encoded data removed]",
      "text/plain": [
       "<matplotlib.figure.Figure at 0x1150f5ef0>"
      ]
     },
     "metadata": {},
     "output_type": "display_data"
    }
   ],
   "source": [
    "median_loco = preds[preds['Id'] == int(quantile_dict[50]), :].as_data_frame().drop(['Id', 'predict'], axis=1)\n",
    "median_loco = median_loco.T.sort_values(by=0, ascending=False)[:5]\n",
    "_ = median_loco.plot(kind='bar', \n",
    "                     title='Positive Reason Codes for the Median of Predicted Sale Price\\n', \n",
    "                     color='r',\n",
    "                     legend=False)"
   ]
  },
  {
   "cell_type": "markdown",
   "metadata": {},
   "source": [
    "#### Shutdown H2O"
   ]
  },
  {
   "cell_type": "code",
   "execution_count": 15,
   "metadata": {
    "collapsed": false
   },
   "outputs": [
    {
     "name": "stdout",
     "output_type": "stream",
     "text": [
      "Are you sure you want to shutdown the H2O instance running at http://127.0.0.1:54321 (Y/N)? y\n",
      "H2O session _sid_a105 closed.\n"
     ]
    }
   ],
   "source": [
    "h2o.cluster().shutdown(prompt=True)"
   ]
  }
 ],
 "metadata": {
  "anaconda-cloud": {},
  "kernelspec": {
   "display_name": "Python [conda root]",
   "language": "python",
   "name": "conda-root-py"
  },
  "language_info": {
   "codemirror_mode": {
    "name": "ipython",
    "version": 3
   },
   "file_extension": ".py",
   "mimetype": "text/x-python",
   "name": "python",
   "nbconvert_exporter": "python",
   "pygments_lexer": "ipython3",
   "version": "3.5.2"
  }
 },
 "nbformat": 4,
 "nbformat_minor": 2
}
