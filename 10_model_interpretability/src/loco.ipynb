{
 "cells": [
  {
   "cell_type": "markdown",
   "metadata": {},
   "source": [
    "# License \n",
    "***\n",
    "Copyright 2017 J. Patrick Hall, jphall@gwu.edu\n",
    "\n",
    "Permission is hereby granted, free of charge, to any person obtaining a copy of this software and associated documentation files (the \"Software\"), to deal in the Software without restriction, including without limitation the rights to use, copy, modify, merge, publish, distribute, sublicense, and/or sell copies of the Software, and to permit persons to whom the Software is furnished to do so, subject to the following conditions:\n",
    "\n",
    "The above copyright notice and this permission notice shall be included in all copies or substantial portions of the Software.\n",
    "\n",
    "THE SOFTWARE IS PROVIDED \"AS IS\", WITHOUT WARRANTY OF ANY KIND, EXPRESS OR IMPLIED, INCLUDING BUT NOT LIMITED TO THE WARRANTIES OF MERCHANTABILITY, FITNESS FOR A PARTICULAR PURPOSE AND NONINFRINGEMENT. IN NO EVENT SHALL THE AUTHORS OR COPYRIGHT HOLDERS BE LIABLE FOR ANY CLAIM, DAMAGES OR OTHER LIABILITY, WHETHER IN AN ACTION OF CONTRACT, TORT OR OTHERWISE, ARISING FROM, OUT OF OR IN CONNECTION WITH THE SOFTWARE OR THE USE OR OTHER DEALINGS IN THE SOFTWARE."
   ]
  },
  {
   "cell_type": "markdown",
   "metadata": {},
   "source": [
    "# Local Feature Importance and Reason Codes using LOCO\n",
    "***\n",
    "\n",
    "Based on: Lei, Jing, G’Sell, Max, Rinaldo, Alessandro, Tibshirani, Ryan J., and Wasserman, Larry. Distribution-free predictive inference for regression. *Journal of the American Statistical Association*, 2017.\n",
    "\n",
    "http://www.stat.cmu.edu/~ryantibs/papers/conformal.pdf"
   ]
  },
  {
   "cell_type": "markdown",
   "metadata": {},
   "source": [
    "## Preliminaries: imports, start h2o, load and clean data "
   ]
  },
  {
   "cell_type": "code",
   "execution_count": 1,
   "metadata": {
    "collapsed": false
   },
   "outputs": [],
   "source": [
    "# imports\n",
    "import h2o \n",
    "import numpy as np\n",
    "import pandas as pd\n",
    "from h2o.estimators.gbm import H2OGradientBoostingEstimator"
   ]
  },
  {
   "cell_type": "code",
   "execution_count": 2,
   "metadata": {
    "collapsed": false
   },
   "outputs": [
    {
     "name": "stdout",
     "output_type": "stream",
     "text": [
      "Checking whether there is an H2O instance running at http://localhost:54321..... not found.\n",
      "Attempting to start a local H2O server...\n",
      "  Java Version: java version \"1.8.0_112\"; Java(TM) SE Runtime Environment (build 1.8.0_112-b16); Java HotSpot(TM) 64-Bit Server VM (build 25.112-b16, mixed mode)\n",
      "  Starting server from /Users/phall/anaconda/lib/python3.5/site-packages/h2o/backend/bin/h2o.jar\n",
      "  Ice root: /var/folders/tc/0ss1l73113j3wdyjsxmy1j2r0000gn/T/tmphrh4lvwa\n",
      "  JVM stdout: /var/folders/tc/0ss1l73113j3wdyjsxmy1j2r0000gn/T/tmphrh4lvwa/h2o_phall_started_from_python.out\n",
      "  JVM stderr: /var/folders/tc/0ss1l73113j3wdyjsxmy1j2r0000gn/T/tmphrh4lvwa/h2o_phall_started_from_python.err\n",
      "  Server is running at http://127.0.0.1:54321\n",
      "Connecting to H2O server at http://127.0.0.1:54321... successful.\n"
     ]
    },
    {
     "data": {
      "text/html": [
       "<div style=\"overflow:auto\"><table style=\"width:50%\"><tr><td>H2O cluster uptime:</td>\n",
       "<td>01 secs</td></tr>\n",
       "<tr><td>H2O cluster version:</td>\n",
       "<td>3.12.0.1</td></tr>\n",
       "<tr><td>H2O cluster version age:</td>\n",
       "<td>2 months and 7 days </td></tr>\n",
       "<tr><td>H2O cluster name:</td>\n",
       "<td>H2O_from_python_phall_or7y2c</td></tr>\n",
       "<tr><td>H2O cluster total nodes:</td>\n",
       "<td>1</td></tr>\n",
       "<tr><td>H2O cluster free memory:</td>\n",
       "<td>3.556 Gb</td></tr>\n",
       "<tr><td>H2O cluster total cores:</td>\n",
       "<td>8</td></tr>\n",
       "<tr><td>H2O cluster allowed cores:</td>\n",
       "<td>8</td></tr>\n",
       "<tr><td>H2O cluster status:</td>\n",
       "<td>accepting new members, healthy</td></tr>\n",
       "<tr><td>H2O connection url:</td>\n",
       "<td>http://127.0.0.1:54321</td></tr>\n",
       "<tr><td>H2O connection proxy:</td>\n",
       "<td>None</td></tr>\n",
       "<tr><td>H2O internal security:</td>\n",
       "<td>False</td></tr>\n",
       "<tr><td>Python version:</td>\n",
       "<td>3.5.2 final</td></tr></table></div>"
      ],
      "text/plain": [
       "--------------------------  ------------------------------\n",
       "H2O cluster uptime:         01 secs\n",
       "H2O cluster version:        3.12.0.1\n",
       "H2O cluster version age:    2 months and 7 days\n",
       "H2O cluster name:           H2O_from_python_phall_or7y2c\n",
       "H2O cluster total nodes:    1\n",
       "H2O cluster free memory:    3.556 Gb\n",
       "H2O cluster total cores:    8\n",
       "H2O cluster allowed cores:  8\n",
       "H2O cluster status:         accepting new members, healthy\n",
       "H2O connection url:         http://127.0.0.1:54321\n",
       "H2O connection proxy:\n",
       "H2O internal security:      False\n",
       "Python version:             3.5.2 final\n",
       "--------------------------  ------------------------------"
      ]
     },
     "metadata": {},
     "output_type": "display_data"
    }
   ],
   "source": [
    "# start h2o\n",
    "h2o.init()\n",
    "h2o.remove_all()\n",
    "h2o.show_progress()"
   ]
  },
  {
   "cell_type": "markdown",
   "metadata": {},
   "source": [
    "#### Load and prepare data for modeling"
   ]
  },
  {
   "cell_type": "code",
   "execution_count": 3,
   "metadata": {
    "collapsed": false
   },
   "outputs": [
    {
     "name": "stdout",
     "output_type": "stream",
     "text": [
      "Parse progress: |█████████████████████████████████████████████████████████| 100%\n"
     ]
    }
   ],
   "source": [
    "# load clean data\n",
    "path = '../../03_regression/data/train.csv'\n",
    "frame = h2o.import_file(path=path)"
   ]
  },
  {
   "cell_type": "code",
   "execution_count": 4,
   "metadata": {
    "collapsed": false
   },
   "outputs": [],
   "source": [
    "# assign target and inputs\n",
    "y = 'SalePrice'\n",
    "X = [name for name in frame.columns if name not in [y, 'Id']]"
   ]
  },
  {
   "cell_type": "markdown",
   "metadata": {},
   "source": [
    "#### LOCO is simpler to use with data containing no missing values"
   ]
  },
  {
   "cell_type": "code",
   "execution_count": 5,
   "metadata": {
    "collapsed": true
   },
   "outputs": [],
   "source": [
    "# determine column types\n",
    "# impute\n",
    "reals, enums = [], []\n",
    "for key, val in frame.types.items():\n",
    "    if key in X:\n",
    "        if val == 'enum':\n",
    "            enums.append(key)\n",
    "        else: \n",
    "            reals.append(key)\n",
    "            \n",
    "_ = frame[reals].impute(method='median')\n",
    "_ = frame[enums].impute(method='mode')"
   ]
  },
  {
   "cell_type": "code",
   "execution_count": 6,
   "metadata": {
    "collapsed": true
   },
   "outputs": [],
   "source": [
    "# split into training and validation\n",
    "train, valid = frame.split_frame([0.7])"
   ]
  },
  {
   "cell_type": "markdown",
   "metadata": {},
   "source": [
    "#### Understanding linear correlation and nonlinear dependencies are important for LOCO.\n",
    "* If strong relationships are present, retraining the model after removing an input will simply allow the linearly correlated or nonlinearly dependent variables to make up for the impact of the removed input.\n",
    "* If such relationships are present, models must be regularized to prevent correlation or other dependencies from creating instability in model parameters or rules. (H2O GBM is regularized by column and row sampling.)\n",
    "* For H2O GBM, setting a variable to missing causes it to follow the majority path in each decision tree. The interpretation of LOCO becomes the numeric difference between the local behavior of the variable and the most common local behavior.\n",
    "* Because of linear correlation and nonlinear dependence, LOCO values are valid only for a given data and feature set. "
   ]
  },
  {
   "cell_type": "code",
   "execution_count": 7,
   "metadata": {
    "collapsed": false
   },
   "outputs": [
    {
     "name": "stdout",
     "output_type": "stream",
     "text": [
      "GarageArea GarageCars\n",
      "GrLivArea TotRmsAbvGrd\n",
      "GarageYrBlt YearBuilt\n",
      "TotRmsAbvGrd GrLivArea\n",
      "GarageCars GarageArea\n",
      "1stFlrSF TotalBsmtSF\n",
      "TotalBsmtSF 1stFlrSF\n",
      "YearBuilt GarageYrBlt\n"
     ]
    }
   ],
   "source": [
    "# print out linearly correlated pairs\n",
    "corr = train[reals].cor().as_data_frame()\n",
    "for i in range(0, corr.shape[0]):\n",
    "    for j in range(0, corr.shape[1]):\n",
    "        if i != j:\n",
    "            if np.abs(corr.iat[i, j]) > 0.7:\n",
    "                print(corr.columns[i], corr.columns[j])"
   ]
  },
  {
   "cell_type": "markdown",
   "metadata": {},
   "source": [
    "It's likely that even more nonlinearly dependent relationships exist between inputs. Nonlinearly relationships can also behave differently at global and local scales."
   ]
  },
  {
   "cell_type": "markdown",
   "metadata": {
    "collapsed": true
   },
   "source": [
    "#### Removing one var from each correlated pair may increase stability in the model and its explanations"
   ]
  },
  {
   "cell_type": "code",
   "execution_count": 8,
   "metadata": {
    "collapsed": false
   },
   "outputs": [],
   "source": [
    "X_reals_decorr = [i for i in reals if i not in  ['GarageYrBlt', 'TotRmsAbvGrd', 'TotalBsmtSF', 'GarageCars']]"
   ]
  },
  {
   "cell_type": "markdown",
   "metadata": {},
   "source": [
    "## Train a predictive model"
   ]
  },
  {
   "cell_type": "code",
   "execution_count": 9,
   "metadata": {
    "collapsed": false
   },
   "outputs": [
    {
     "name": "stdout",
     "output_type": "stream",
     "text": [
      "gbm Model Build progress: |███████████████████████████████████████████████| 100%\n",
      "gbm prediction progress: |████████████████████████████████████████████████| 100%\n"
     ]
    }
   ],
   "source": [
    "# train GBM model\n",
    "model = H2OGradientBoostingEstimator(ntrees=100,\n",
    "                                     max_depth=10,\n",
    "                                     distribution='huber',\n",
    "                                     learn_rate=0.1,\n",
    "                                     stopping_rounds=5,\n",
    "                                     seed=12345)\n",
    "\n",
    "model.train(y=y, x=X_reals_decorr, training_frame=train, validation_frame=valid)\n",
    "\n",
    "preds = valid['Id'].cbind(model.predict(valid))"
   ]
  },
  {
   "cell_type": "markdown",
   "metadata": {},
   "source": [
    "## Rescore predictive model\n",
    "* Each time leaving one input (covariate) out by setting it to missing\n",
    "* To generate local feature importance values for each decision"
   ]
  },
  {
   "cell_type": "code",
   "execution_count": 10,
   "metadata": {
    "collapsed": false
   },
   "outputs": [
    {
     "name": "stdout",
     "output_type": "stream",
     "text": [
      "LOCO Progress: GarageArea (1/32) ...\n",
      "LOCO Progress: Fireplaces (2/32) ...\n",
      "LOCO Progress: 2ndFlrSF (3/32) ...\n",
      "LOCO Progress: GrLivArea (4/32) ...\n",
      "LOCO Progress: BsmtHalfBath (5/32) ...\n",
      "LOCO Progress: HalfBath (6/32) ...\n",
      "LOCO Progress: YrSold (7/32) ...\n",
      "LOCO Progress: EnclosedPorch (8/32) ...\n",
      "LOCO Progress: MasVnrArea (9/32) ...\n",
      "LOCO Progress: LotFrontage (10/32) ...\n",
      "LOCO Progress: BsmtFinSF1 (11/32) ...\n",
      "LOCO Progress: WoodDeckSF (12/32) ...\n",
      "LOCO Progress: PoolArea (13/32) ...\n",
      "LOCO Progress: 3SsnPorch (14/32) ...\n",
      "LOCO Progress: YearRemodAdd (15/32) ...\n",
      "LOCO Progress: 1stFlrSF (16/32) ...\n",
      "LOCO Progress: OverallCond (17/32) ...\n",
      "LOCO Progress: MiscVal (18/32) ...\n",
      "LOCO Progress: BsmtFinSF2 (19/32) ...\n",
      "LOCO Progress: OpenPorchSF (20/32) ...\n",
      "LOCO Progress: MSSubClass (21/32) ...\n",
      "LOCO Progress: YearBuilt (22/32) ...\n",
      "LOCO Progress: BsmtUnfSF (23/32) ...\n",
      "LOCO Progress: LowQualFinSF (24/32) ...\n",
      "LOCO Progress: ScreenPorch (25/32) ...\n",
      "LOCO Progress: MoSold (26/32) ...\n",
      "LOCO Progress: KitchenAbvGr (27/32) ...\n",
      "LOCO Progress: BsmtFullBath (28/32) ...\n",
      "LOCO Progress: OverallQual (29/32) ...\n",
      "LOCO Progress: BedroomAbvGr (30/32) ...\n",
      "LOCO Progress: LotArea (31/32) ...\n",
      "LOCO Progress: FullBath (32/32) ...\n",
      "Done.\n"
     ]
    },
    {
     "data": {
      "text/html": [
       "<table>\n",
       "<thead>\n",
       "<tr><th style=\"text-align: right;\">  Id</th><th style=\"text-align: right;\">  predict</th><th style=\"text-align: right;\">  GarageArea</th><th style=\"text-align: right;\">  Fireplaces</th><th style=\"text-align: right;\">  2ndFlrSF</th><th style=\"text-align: right;\">  GrLivArea</th><th style=\"text-align: right;\">  BsmtHalfBath</th><th style=\"text-align: right;\">  HalfBath</th><th style=\"text-align: right;\">   YrSold</th><th style=\"text-align: right;\">  EnclosedPorch</th><th style=\"text-align: right;\">  MasVnrArea</th><th style=\"text-align: right;\">  LotFrontage</th><th style=\"text-align: right;\">  BsmtFinSF1</th><th style=\"text-align: right;\">  WoodDeckSF</th><th style=\"text-align: right;\">  PoolArea</th><th style=\"text-align: right;\">  3SsnPorch</th><th style=\"text-align: right;\">  YearRemodAdd</th><th style=\"text-align: right;\">  1stFlrSF</th><th style=\"text-align: right;\">  OverallCond</th><th style=\"text-align: right;\">  MiscVal</th><th style=\"text-align: right;\">  BsmtFinSF2</th><th style=\"text-align: right;\">  OpenPorchSF</th><th style=\"text-align: right;\">  MSSubClass</th><th style=\"text-align: right;\">  YearBuilt</th><th style=\"text-align: right;\">  BsmtUnfSF</th><th style=\"text-align: right;\">  LowQualFinSF</th><th style=\"text-align: right;\">  ScreenPorch</th><th style=\"text-align: right;\">    MoSold</th><th style=\"text-align: right;\">  KitchenAbvGr</th><th style=\"text-align: right;\">  BsmtFullBath</th><th style=\"text-align: right;\">  OverallQual</th><th style=\"text-align: right;\">  BedroomAbvGr</th><th style=\"text-align: right;\">   LotArea</th><th style=\"text-align: right;\">  FullBath</th></tr>\n",
       "</thead>\n",
       "<tbody>\n",
       "<tr><td style=\"text-align: right;\">   1</td><td style=\"text-align: right;\">   211173</td><td style=\"text-align: right;\">   -4944.63 </td><td style=\"text-align: right;\">    4517.54 </td><td style=\"text-align: right;\"> -8553.57 </td><td style=\"text-align: right;\">  -1989.51 </td><td style=\"text-align: right;\">             0</td><td style=\"text-align: right;\">  -989.681</td><td style=\"text-align: right;\">    0    </td><td style=\"text-align: right;\">          0    </td><td style=\"text-align: right;\">    -707.164</td><td style=\"text-align: right;\">     8531.92 </td><td style=\"text-align: right;\">     1205.02</td><td style=\"text-align: right;\">     487.294</td><td style=\"text-align: right;\">         0</td><td style=\"text-align: right;\">          0</td><td style=\"text-align: right;\">      -649.693</td><td style=\"text-align: right;\">  -531.649</td><td style=\"text-align: right;\">        0    </td><td style=\"text-align: right;\">        0</td><td style=\"text-align: right;\">        0   </td><td style=\"text-align: right;\">      416.207</td><td style=\"text-align: right;\">      0     </td><td style=\"text-align: right;\">   -4735.03</td><td style=\"text-align: right;\">   -88.6745</td><td style=\"text-align: right;\">          0   </td><td style=\"text-align: right;\">         0   </td><td style=\"text-align: right;\">  982.384 </td><td style=\"text-align: right;\">             0</td><td style=\"text-align: right;\">     -4605.39 </td><td style=\"text-align: right;\">    -16086.4 </td><td style=\"text-align: right;\">          0   </td><td style=\"text-align: right;\">     0    </td><td style=\"text-align: right;\"> -174.877 </td></tr>\n",
       "<tr><td style=\"text-align: right;\">   3</td><td style=\"text-align: right;\">   218512</td><td style=\"text-align: right;\">    -693.683</td><td style=\"text-align: right;\">       0    </td><td style=\"text-align: right;\"> -7002.65 </td><td style=\"text-align: right;\">  -4918.78 </td><td style=\"text-align: right;\">             0</td><td style=\"text-align: right;\"> -2214.69 </td><td style=\"text-align: right;\">    0    </td><td style=\"text-align: right;\">          0    </td><td style=\"text-align: right;\">    1315.65 </td><td style=\"text-align: right;\">     4676.31 </td><td style=\"text-align: right;\">        0   </td><td style=\"text-align: right;\">    3878.76 </td><td style=\"text-align: right;\">         0</td><td style=\"text-align: right;\">          0</td><td style=\"text-align: right;\">     -1379.54 </td><td style=\"text-align: right;\">     0    </td><td style=\"text-align: right;\">        0    </td><td style=\"text-align: right;\">        0</td><td style=\"text-align: right;\">        0   </td><td style=\"text-align: right;\">     1559.34 </td><td style=\"text-align: right;\">      0     </td><td style=\"text-align: right;\">   -4830.33</td><td style=\"text-align: right;\">  2076.15  </td><td style=\"text-align: right;\">          0   </td><td style=\"text-align: right;\">         0   </td><td style=\"text-align: right;\">  -50.0089</td><td style=\"text-align: right;\">             0</td><td style=\"text-align: right;\">      -235.58 </td><td style=\"text-align: right;\">    -25621.2 </td><td style=\"text-align: right;\">          0   </td><td style=\"text-align: right;\">   532.912</td><td style=\"text-align: right;\"> -174.877 </td></tr>\n",
       "<tr><td style=\"text-align: right;\">   7</td><td style=\"text-align: right;\">   310332</td><td style=\"text-align: right;\">    9428.7  </td><td style=\"text-align: right;\">       0    </td><td style=\"text-align: right;\">-11273.2  </td><td style=\"text-align: right;\">  20861.2  </td><td style=\"text-align: right;\">             0</td><td style=\"text-align: right;\">   356.105</td><td style=\"text-align: right;\">-1217.26 </td><td style=\"text-align: right;\">          0    </td><td style=\"text-align: right;\">    -124.831</td><td style=\"text-align: right;\">     1054.2  </td><td style=\"text-align: right;\">   -14743.1 </td><td style=\"text-align: right;\">   -2559.95 </td><td style=\"text-align: right;\">         0</td><td style=\"text-align: right;\">          0</td><td style=\"text-align: right;\">     -6309.34 </td><td style=\"text-align: right;\"> -7995.74 </td><td style=\"text-align: right;\">        0    </td><td style=\"text-align: right;\">        0</td><td style=\"text-align: right;\">        0   </td><td style=\"text-align: right;\">      -57.696</td><td style=\"text-align: right;\">   3440.78  </td><td style=\"text-align: right;\">   -4120.83</td><td style=\"text-align: right;\">  1434.25  </td><td style=\"text-align: right;\">          0   </td><td style=\"text-align: right;\">         0   </td><td style=\"text-align: right;\"> 1178.66  </td><td style=\"text-align: right;\">             0</td><td style=\"text-align: right;\">     -5364.03 </td><td style=\"text-align: right;\">   -107920   </td><td style=\"text-align: right;\">          0   </td><td style=\"text-align: right;\">     0    </td><td style=\"text-align: right;\"> -115.802 </td></tr>\n",
       "<tr><td style=\"text-align: right;\">  29</td><td style=\"text-align: right;\">   166964</td><td style=\"text-align: right;\">     341.497</td><td style=\"text-align: right;\">   -4872.25 </td><td style=\"text-align: right;\">     0    </td><td style=\"text-align: right;\"> -10120.3  </td><td style=\"text-align: right;\">             0</td><td style=\"text-align: right;\">     0    </td><td style=\"text-align: right;\">-2253.41 </td><td style=\"text-align: right;\">          0    </td><td style=\"text-align: right;\">       0    </td><td style=\"text-align: right;\">     2778.16 </td><td style=\"text-align: right;\">    -5126.36</td><td style=\"text-align: right;\">   -7828.2  </td><td style=\"text-align: right;\">         0</td><td style=\"text-align: right;\">          0</td><td style=\"text-align: right;\">       654.523</td><td style=\"text-align: right;\">-11458.1  </td><td style=\"text-align: right;\">        0    </td><td style=\"text-align: right;\">        0</td><td style=\"text-align: right;\">        0   </td><td style=\"text-align: right;\">     -596.914</td><td style=\"text-align: right;\">    -43.8974</td><td style=\"text-align: right;\">    4408.45</td><td style=\"text-align: right;\">  1586.13  </td><td style=\"text-align: right;\">          0   </td><td style=\"text-align: right;\">         0   </td><td style=\"text-align: right;\">-3486.97  </td><td style=\"text-align: right;\">             0</td><td style=\"text-align: right;\">       707.83 </td><td style=\"text-align: right;\">     15152.9 </td><td style=\"text-align: right;\">          0   </td><td style=\"text-align: right;\"> -3142.57 </td><td style=\"text-align: right;\">    0     </td></tr>\n",
       "<tr><td style=\"text-align: right;\">  47</td><td style=\"text-align: right;\">   301396</td><td style=\"text-align: right;\">    6685.83 </td><td style=\"text-align: right;\">     643.515</td><td style=\"text-align: right;\">   788.534</td><td style=\"text-align: right;\"> -35051.7  </td><td style=\"text-align: right;\">             0</td><td style=\"text-align: right;\">  1333.82 </td><td style=\"text-align: right;\"> 2787.54 </td><td style=\"text-align: right;\">          0    </td><td style=\"text-align: right;\">    1687.34 </td><td style=\"text-align: right;\">   -12593.4  </td><td style=\"text-align: right;\">   -47916.1 </td><td style=\"text-align: right;\">   -4960.66 </td><td style=\"text-align: right;\">         0</td><td style=\"text-align: right;\">          0</td><td style=\"text-align: right;\">      -302.488</td><td style=\"text-align: right;\"> -8224.28 </td><td style=\"text-align: right;\">        0    </td><td style=\"text-align: right;\">        0</td><td style=\"text-align: right;\">        0   </td><td style=\"text-align: right;\">        0    </td><td style=\"text-align: right;\">    555.012 </td><td style=\"text-align: right;\">  -18470.5 </td><td style=\"text-align: right;\"> -5104.97  </td><td style=\"text-align: right;\">          0   </td><td style=\"text-align: right;\">     -3064.98</td><td style=\"text-align: right;\"> 3927.75  </td><td style=\"text-align: right;\">             0</td><td style=\"text-align: right;\">      -619.326</td><td style=\"text-align: right;\">    -63564.1 </td><td style=\"text-align: right;\">      -5318.17</td><td style=\"text-align: right;\">-12431.7  </td><td style=\"text-align: right;\">    0     </td></tr>\n",
       "<tr><td style=\"text-align: right;\">  50</td><td style=\"text-align: right;\">   130230</td><td style=\"text-align: right;\">    -825.927</td><td style=\"text-align: right;\">     377.907</td><td style=\"text-align: right;\">     0    </td><td style=\"text-align: right;\">   3009.37 </td><td style=\"text-align: right;\">             0</td><td style=\"text-align: right;\">     0    </td><td style=\"text-align: right;\">    0    </td><td style=\"text-align: right;\">          0    </td><td style=\"text-align: right;\">       0    </td><td style=\"text-align: right;\">      295.796</td><td style=\"text-align: right;\">    -3095.14</td><td style=\"text-align: right;\">       0    </td><td style=\"text-align: right;\">         0</td><td style=\"text-align: right;\">          0</td><td style=\"text-align: right;\">       935.241</td><td style=\"text-align: right;\">  1600.43 </td><td style=\"text-align: right;\">    -1899.92 </td><td style=\"text-align: right;\">        0</td><td style=\"text-align: right;\">        0   </td><td style=\"text-align: right;\">        0    </td><td style=\"text-align: right;\">      0     </td><td style=\"text-align: right;\">    1817.12</td><td style=\"text-align: right;\"> -1190.49  </td><td style=\"text-align: right;\">          0   </td><td style=\"text-align: right;\">         0   </td><td style=\"text-align: right;\"> 1332.2   </td><td style=\"text-align: right;\">             0</td><td style=\"text-align: right;\">      -864.706</td><td style=\"text-align: right;\">         0   </td><td style=\"text-align: right;\">          0   </td><td style=\"text-align: right;\">   756.293</td><td style=\"text-align: right;\">    0     </td></tr>\n",
       "<tr><td style=\"text-align: right;\">  52</td><td style=\"text-align: right;\">   120337</td><td style=\"text-align: right;\">    -746.334</td><td style=\"text-align: right;\">   -6046    </td><td style=\"text-align: right;\">  1083.11 </td><td style=\"text-align: right;\">  -6310.82 </td><td style=\"text-align: right;\">             0</td><td style=\"text-align: right;\">     0    </td><td style=\"text-align: right;\">-3008.21 </td><td style=\"text-align: right;\">          0    </td><td style=\"text-align: right;\">       0    </td><td style=\"text-align: right;\">     1237.52 </td><td style=\"text-align: right;\">    -1728.92</td><td style=\"text-align: right;\">     833.964</td><td style=\"text-align: right;\">         0</td><td style=\"text-align: right;\">          0</td><td style=\"text-align: right;\">      -837.764</td><td style=\"text-align: right;\">   937.689</td><td style=\"text-align: right;\">      172.438</td><td style=\"text-align: right;\">        0</td><td style=\"text-align: right;\">        0   </td><td style=\"text-align: right;\">        0    </td><td style=\"text-align: right;\">      0     </td><td style=\"text-align: right;\">   14245.5 </td><td style=\"text-align: right;\"> -1389.92  </td><td style=\"text-align: right;\">       2709.99</td><td style=\"text-align: right;\">         0   </td><td style=\"text-align: right;\"> -600.298 </td><td style=\"text-align: right;\">             0</td><td style=\"text-align: right;\">         0    </td><td style=\"text-align: right;\">     -2769.83</td><td style=\"text-align: right;\">      -1750.64</td><td style=\"text-align: right;\"> -1405.02 </td><td style=\"text-align: right;\"> 3216.28  </td></tr>\n",
       "<tr><td style=\"text-align: right;\">  53</td><td style=\"text-align: right;\">   107252</td><td style=\"text-align: right;\">    5251.27 </td><td style=\"text-align: right;\">     253.225</td><td style=\"text-align: right;\">     0    </td><td style=\"text-align: right;\">   4942.4  </td><td style=\"text-align: right;\">             0</td><td style=\"text-align: right;\">     0    </td><td style=\"text-align: right;\">  107.168</td><td style=\"text-align: right;\">          0    </td><td style=\"text-align: right;\">       0    </td><td style=\"text-align: right;\">     -580.432</td><td style=\"text-align: right;\">     7896.53</td><td style=\"text-align: right;\">    -688.427</td><td style=\"text-align: right;\">         0</td><td style=\"text-align: right;\">          0</td><td style=\"text-align: right;\">      2438.91 </td><td style=\"text-align: right;\">  5657.48 </td><td style=\"text-align: right;\">     4961.95 </td><td style=\"text-align: right;\">        0</td><td style=\"text-align: right;\">    -3671.98</td><td style=\"text-align: right;\">        0    </td><td style=\"text-align: right;\">   -563.546 </td><td style=\"text-align: right;\">   11592.2 </td><td style=\"text-align: right;\">    32.4635</td><td style=\"text-align: right;\">          0   </td><td style=\"text-align: right;\">         0   </td><td style=\"text-align: right;\">  326.227 </td><td style=\"text-align: right;\">             0</td><td style=\"text-align: right;\">     -4003.28 </td><td style=\"text-align: right;\">         0   </td><td style=\"text-align: right;\">       1002.68</td><td style=\"text-align: right;\">  -555.258</td><td style=\"text-align: right;\">    0     </td></tr>\n",
       "<tr><td style=\"text-align: right;\">  58</td><td style=\"text-align: right;\">   223536</td><td style=\"text-align: right;\">   -6409.74 </td><td style=\"text-align: right;\">    2338.88 </td><td style=\"text-align: right;\">-19149.2  </td><td style=\"text-align: right;\">  -9800.45 </td><td style=\"text-align: right;\">             0</td><td style=\"text-align: right;\"> -1077.27 </td><td style=\"text-align: right;\">  994.445</td><td style=\"text-align: right;\">          0    </td><td style=\"text-align: right;\">    -394.088</td><td style=\"text-align: right;\">    -1530.73 </td><td style=\"text-align: right;\">     4407.79</td><td style=\"text-align: right;\">    -950.84 </td><td style=\"text-align: right;\">         0</td><td style=\"text-align: right;\">          0</td><td style=\"text-align: right;\">     -2863.16 </td><td style=\"text-align: right;\">   279.205</td><td style=\"text-align: right;\">        0    </td><td style=\"text-align: right;\">        0</td><td style=\"text-align: right;\">        0   </td><td style=\"text-align: right;\">     -982.96 </td><td style=\"text-align: right;\">      0     </td><td style=\"text-align: right;\">   -5978.64</td><td style=\"text-align: right;\">   884.173 </td><td style=\"text-align: right;\">          0   </td><td style=\"text-align: right;\">         0   </td><td style=\"text-align: right;\">-1467.13  </td><td style=\"text-align: right;\">             0</td><td style=\"text-align: right;\">         0    </td><td style=\"text-align: right;\">    -42674.5 </td><td style=\"text-align: right;\">          0   </td><td style=\"text-align: right;\"> -2846.93 </td><td style=\"text-align: right;\">  -59.0745</td></tr>\n",
       "<tr><td style=\"text-align: right;\">  64</td><td style=\"text-align: right;\">   147327</td><td style=\"text-align: right;\">   16006.6  </td><td style=\"text-align: right;\">     356.768</td><td style=\"text-align: right;\"> -8669.57 </td><td style=\"text-align: right;\">    201.576</td><td style=\"text-align: right;\">             0</td><td style=\"text-align: right;\">  1889.21 </td><td style=\"text-align: right;\"> -251.536</td><td style=\"text-align: right;\">       -965.831</td><td style=\"text-align: right;\">       0    </td><td style=\"text-align: right;\">     4906.28 </td><td style=\"text-align: right;\">     8749.05</td><td style=\"text-align: right;\">       0    </td><td style=\"text-align: right;\">         0</td><td style=\"text-align: right;\">          0</td><td style=\"text-align: right;\">     13361.2  </td><td style=\"text-align: right;\">   937.689</td><td style=\"text-align: right;\">     -813.758</td><td style=\"text-align: right;\">        0</td><td style=\"text-align: right;\">        0   </td><td style=\"text-align: right;\">     8051.64 </td><td style=\"text-align: right;\">      0     </td><td style=\"text-align: right;\">    6079.23</td><td style=\"text-align: right;\">   479.323 </td><td style=\"text-align: right;\">          0   </td><td style=\"text-align: right;\">         0   </td><td style=\"text-align: right;\"> 2117.94  </td><td style=\"text-align: right;\">             0</td><td style=\"text-align: right;\">         0    </td><td style=\"text-align: right;\">     -4842.73</td><td style=\"text-align: right;\">          0   </td><td style=\"text-align: right;\">   801.373</td><td style=\"text-align: right;\">  -59.0745</td></tr>\n",
       "</tbody>\n",
       "</table>"
      ]
     },
     "metadata": {},
     "output_type": "display_data"
    },
    {
     "data": {
      "text/plain": []
     },
     "execution_count": 10,
     "metadata": {},
     "output_type": "execute_result"
    }
   ],
   "source": [
    "h2o.no_progress()\n",
    "\n",
    "for k, i in enumerate(X_reals_decorr):\n",
    "\n",
    "    # train and predict with Xi set to missing\n",
    "    valid_loco = h2o.deep_copy(valid, 'valid_loco')\n",
    "    valid_loco[i] = np.nan\n",
    "    preds_loco = model.predict(valid_loco)\n",
    "    \n",
    "    # create a new, named column for the LOCO prediction\n",
    "    preds_loco.columns = [i]\n",
    "    preds = preds.cbind(preds_loco)\n",
    "    \n",
    "    # subtract the LOCO prediction from \n",
    "    preds[i] = preds[i] - preds['predict']\n",
    "    \n",
    "    print('LOCO Progress: ' + i + ' (' + str(k+1) + '/' + str(len(X_reals_decorr)) + ') ...')\n",
    "    \n",
    "print('Done.')  \n",
    "\n",
    "preds.head()"
   ]
  },
  {
   "cell_type": "markdown",
   "metadata": {},
   "source": [
    "The numeric values in each column are an estimate of how much each variable contributed to each decision. These values can tell you how a variable and it's values were weighted in any given decision by the model. These values are crucially important for machine learning interpretability and are often to referred to \"local feature importance\", \"reason codes\", or \"turn-down codes.\" The latter phrases are borrowed from credit scoring. Credit lenders must provide reasons for turning down a credit application, even for automated decisions. Reason codes can be easily extracted from LOCO local feature importance values, by simply ranking the variables that played the largest role in any given decision."
   ]
  },
  {
   "cell_type": "markdown",
   "metadata": {},
   "source": [
    "#### Helper function for finding quantile indices"
   ]
  },
  {
   "cell_type": "code",
   "execution_count": 11,
   "metadata": {
    "collapsed": false
   },
   "outputs": [
    {
     "name": "stdout",
     "output_type": "stream",
     "text": [
      "{0: 917.0, 80: 383.0, 50: 673.0, 99: 441.0, 20: 1082.0, 70: 73.0, 40: 1248.0, 10: 457.0, 60: 599.0, 90: 504.0, 30: 489.0}\n"
     ]
    }
   ],
   "source": [
    "def get_quantile_dict(y, id_, frame):\n",
    "\n",
    "    \"\"\" Returns the percentiles of a column y as the indices for another column id_.\n",
    "    \n",
    "    Args:\n",
    "        y: Column in which to find percentiles.\n",
    "        id_: Id column that stores indices for percentiles of y.\n",
    "        frame: H2OFrame containing y and id_. \n",
    "    \n",
    "    Returns:\n",
    "        Dictionary of percentile values and index column values.\n",
    "    \n",
    "    \"\"\"\n",
    "    \n",
    "    quantiles_df = frame.as_data_frame()\n",
    "    quantiles_df.sort_values(y, inplace=True)\n",
    "    quantiles_df.reset_index(inplace=True)\n",
    "    \n",
    "    percentiles_dict = {}\n",
    "    percentiles_dict[0] = quantiles_df.loc[0, id_]\n",
    "    percentiles_dict[99] = quantiles_df.loc[quantiles_df.shape[0]-1, id_]\n",
    "    inc = quantiles_df.shape[0]//10\n",
    "    \n",
    "    for i in range(1, 10):\n",
    "        percentiles_dict[i * 10] = quantiles_df.loc[i * inc,  id_]\n",
    "\n",
    "    return percentiles_dict\n",
    "\n",
    "quantile_dict = get_quantile_dict('predict', 'Id', preds)\n",
    "print(quantile_dict)"
   ]
  },
  {
   "cell_type": "markdown",
   "metadata": {},
   "source": [
    "#### Plot some reason codes for a representative row"
   ]
  },
  {
   "cell_type": "code",
   "execution_count": 12,
   "metadata": {
    "collapsed": true
   },
   "outputs": [],
   "source": [
    "%matplotlib inline"
   ]
  },
  {
   "cell_type": "code",
   "execution_count": 13,
   "metadata": {
    "collapsed": false
   },
   "outputs": [
    {
     "data": {
      "image/png": "[encoded data removed]",
      "text/plain": [
       "<matplotlib.figure.Figure at 0x118aa7710>"
      ]
     },
     "metadata": {},
     "output_type": "display_data"
    }
   ],
   "source": [
    "median_loco = preds[preds['Id'] == int(quantile_dict[50]), :].as_data_frame().drop(['Id', 'predict'], axis=1)\n",
    "median_loco = median_loco.T.sort_values(by=0)[:5]\n",
    "_ = median_loco.plot(kind='bar', \n",
    "                     title='Negative Reason Codes for the Median of Predicted Sale Price\\n', \n",
    "                     legend=False)"
   ]
  },
  {
   "cell_type": "code",
   "execution_count": 14,
   "metadata": {
    "collapsed": false
   },
   "outputs": [
    {
     "data": {
      "image/png": "[encoded data removed]",
      "text/plain": [
       "<matplotlib.figure.Figure at 0x118ae21d0>"
      ]
     },
     "metadata": {},
     "output_type": "display_data"
    }
   ],
   "source": [
    "median_loco = preds[preds['Id'] == int(quantile_dict[50]), :].as_data_frame().drop(['Id', 'predict'], axis=1)\n",
    "median_loco = median_loco.T.sort_values(by=0, ascending=False)[:5]\n",
    "_ = median_loco.plot(kind='bar', \n",
    "                     title='Positive Reason Codes for the Median of Predicted Sale Price\\n', \n",
    "                     color='r',\n",
    "                     legend=False)"
   ]
  },
  {
   "cell_type": "markdown",
   "metadata": {},
   "source": [
    "## Ensembling explantions to reduce local variance\n",
    "Explanations derived from high variance machine learning models can be unstable. One general way to decrease variance is to ensemble the results of many models."
   ]
  },
  {
   "cell_type": "markdown",
   "metadata": {},
   "source": [
    "#### Train multiple models"
   ]
  },
  {
   "cell_type": "code",
   "execution_count": 15,
   "metadata": {
    "collapsed": false
   },
   "outputs": [
    {
     "name": "stdout",
     "output_type": "stream",
     "text": [
      "Training Progress: model 1/10 ...\n",
      "Training Progress: model 2/10 ...\n",
      "Training Progress: model 3/10 ...\n",
      "Training Progress: model 4/10 ...\n",
      "Training Progress: model 5/10 ...\n",
      "Training Progress: model 6/10 ...\n",
      "Training Progress: model 7/10 ...\n",
      "Training Progress: model 8/10 ...\n",
      "Training Progress: model 9/10 ...\n",
      "Training Progress: model 10/10 ...\n",
      "Done.\n"
     ]
    }
   ],
   "source": [
    "n_models = 10 # select number of models\n",
    "\n",
    "models = []\n",
    "pred_frames = []\n",
    "\n",
    "for i in range(0, n_models):\n",
    "\n",
    "    # store models\n",
    "    models.append(H2OGradientBoostingEstimator(ntrees=500,\n",
    "                                               max_depth=2 * (i + 1),\n",
    "                                               distribution='huber',\n",
    "                                               learn_rate=0.01 * (i + 1),\n",
    "                                               stopping_rounds=5,\n",
    "                                               seed=i + 1))\n",
    "    \n",
    "    # train models\n",
    "    models[i].train(y=y, x=X_reals_decorr, training_frame=train, validation_frame=valid)\n",
    "    \n",
    "    # store predictions\n",
    "    pred_frames.append(valid['Id'].cbind(models[i].predict(valid)))\n",
    "\n",
    "    print('Training Progress: model %d/%d ...' % (i + 1, n_models))\n",
    "\n",
    "print('Done.')"
   ]
  },
  {
   "cell_type": "markdown",
   "metadata": {},
   "source": [
    "#### Calculate LOCO for each model"
   ]
  },
  {
   "cell_type": "code",
   "execution_count": 16,
   "metadata": {
    "collapsed": false
   },
   "outputs": [
    {
     "name": "stdout",
     "output_type": "stream",
     "text": [
      "LOCO Progress: model 1/10 ...\n",
      "LOCO Progress: model 2/10 ...\n",
      "LOCO Progress: model 3/10 ...\n",
      "LOCO Progress: model 4/10 ...\n",
      "LOCO Progress: model 5/10 ...\n",
      "LOCO Progress: model 6/10 ...\n",
      "LOCO Progress: model 7/10 ...\n",
      "LOCO Progress: model 8/10 ...\n",
      "LOCO Progress: model 9/10 ...\n",
      "LOCO Progress: model 10/10 ...\n",
      "Done.\n"
     ]
    }
   ],
   "source": [
    "for k, model in enumerate(models):\n",
    "\n",
    "    for i in X_reals_decorr:\n",
    "\n",
    "        # train and predict with Xi set to missing\n",
    "        valid_loco = h2o.deep_copy(valid, 'valid_loco')\n",
    "        valid_loco[i] = np.nan\n",
    "        preds_loco = model.predict(valid_loco)\n",
    "\n",
    "        # create a new, named column for the LOCO prediction\n",
    "        preds_loco.columns = [i]\n",
    "        pred_frames[k] = pred_frames[k].cbind(preds_loco)\n",
    "\n",
    "        # subtract the LOCO prediction from \n",
    "        pred_frames[k][i] = pred_frames[k][i] - pred_frames[k]['predict']\n",
    "        \n",
    "    print('LOCO Progress: model %d/%d ...' % (k + 1, n_models))\n",
    "\n",
    "print('Done.')"
   ]
  },
  {
   "cell_type": "markdown",
   "metadata": {},
   "source": [
    "#### Collect LOCO values for each model for the median home"
   ]
  },
  {
   "cell_type": "code",
   "execution_count": 17,
   "metadata": {
    "collapsed": false
   },
   "outputs": [
    {
     "data": {
      "text/html": [
       "<div>\n",
       "<table border=\"1\" class=\"dataframe\">\n",
       "  <thead>\n",
       "    <tr style=\"text-align: right;\">\n",
       "      <th></th>\n",
       "      <th>Loco 1</th>\n",
       "      <th>Loco 2</th>\n",
       "      <th>Loco 3</th>\n",
       "      <th>Loco 4</th>\n",
       "      <th>Loco 5</th>\n",
       "      <th>Loco 6</th>\n",
       "      <th>Loco 7</th>\n",
       "      <th>Loco 8</th>\n",
       "      <th>Loco 9</th>\n",
       "      <th>Loco 10</th>\n",
       "      <th>Mean Local Importance</th>\n",
       "    </tr>\n",
       "  </thead>\n",
       "  <tbody>\n",
       "    <tr>\n",
       "      <th>GarageArea</th>\n",
       "      <td>-118.845985</td>\n",
       "      <td>0.000000</td>\n",
       "      <td>194.277403</td>\n",
       "      <td>392.692809</td>\n",
       "      <td>742.902273</td>\n",
       "      <td>432.026697</td>\n",
       "      <td>-614.617920</td>\n",
       "      <td>-762.428177</td>\n",
       "      <td>286.470085</td>\n",
       "      <td>162.456833</td>\n",
       "      <td>71.493402</td>\n",
       "    </tr>\n",
       "    <tr>\n",
       "      <th>Fireplaces</th>\n",
       "      <td>-1423.841896</td>\n",
       "      <td>-2565.718126</td>\n",
       "      <td>-3118.804874</td>\n",
       "      <td>-1640.170829</td>\n",
       "      <td>-876.551462</td>\n",
       "      <td>-1662.948529</td>\n",
       "      <td>-805.049273</td>\n",
       "      <td>-180.329010</td>\n",
       "      <td>585.155239</td>\n",
       "      <td>-3408.051101</td>\n",
       "      <td>-1509.630986</td>\n",
       "    </tr>\n",
       "    <tr>\n",
       "      <th>2ndFlrSF</th>\n",
       "      <td>0.000000</td>\n",
       "      <td>-151.635657</td>\n",
       "      <td>0.000000</td>\n",
       "      <td>-188.850018</td>\n",
       "      <td>-146.715868</td>\n",
       "      <td>-360.834003</td>\n",
       "      <td>-920.301953</td>\n",
       "      <td>-520.485265</td>\n",
       "      <td>-639.510277</td>\n",
       "      <td>-675.126221</td>\n",
       "      <td>-360.345926</td>\n",
       "    </tr>\n",
       "    <tr>\n",
       "      <th>GrLivArea</th>\n",
       "      <td>3381.191247</td>\n",
       "      <td>3018.999499</td>\n",
       "      <td>1818.053730</td>\n",
       "      <td>236.113616</td>\n",
       "      <td>1246.353869</td>\n",
       "      <td>257.009970</td>\n",
       "      <td>35.694580</td>\n",
       "      <td>635.515474</td>\n",
       "      <td>902.021759</td>\n",
       "      <td>-844.022312</td>\n",
       "      <td>1068.693143</td>\n",
       "    </tr>\n",
       "    <tr>\n",
       "      <th>BsmtHalfBath</th>\n",
       "      <td>0.000000</td>\n",
       "      <td>0.000000</td>\n",
       "      <td>0.000000</td>\n",
       "      <td>0.000000</td>\n",
       "      <td>0.000000</td>\n",
       "      <td>0.000000</td>\n",
       "      <td>0.000000</td>\n",
       "      <td>0.000000</td>\n",
       "      <td>0.000000</td>\n",
       "      <td>0.000000</td>\n",
       "      <td>0.000000</td>\n",
       "    </tr>\n",
       "    <tr>\n",
       "      <th>HalfBath</th>\n",
       "      <td>-72.773099</td>\n",
       "      <td>-2696.100418</td>\n",
       "      <td>-2781.777997</td>\n",
       "      <td>-3340.967999</td>\n",
       "      <td>-4046.483948</td>\n",
       "      <td>-4636.059923</td>\n",
       "      <td>-1845.566167</td>\n",
       "      <td>-3244.379057</td>\n",
       "      <td>-5848.654792</td>\n",
       "      <td>-1236.847626</td>\n",
       "      <td>-2974.961103</td>\n",
       "    </tr>\n",
       "    <tr>\n",
       "      <th>YrSold</th>\n",
       "      <td>0.000000</td>\n",
       "      <td>58.295608</td>\n",
       "      <td>143.931770</td>\n",
       "      <td>-253.112238</td>\n",
       "      <td>381.281537</td>\n",
       "      <td>369.961030</td>\n",
       "      <td>873.449045</td>\n",
       "      <td>-320.072649</td>\n",
       "      <td>39.346066</td>\n",
       "      <td>1441.805609</td>\n",
       "      <td>273.488578</td>\n",
       "    </tr>\n",
       "    <tr>\n",
       "      <th>EnclosedPorch</th>\n",
       "      <td>0.000000</td>\n",
       "      <td>0.000000</td>\n",
       "      <td>0.000000</td>\n",
       "      <td>0.000000</td>\n",
       "      <td>0.000000</td>\n",
       "      <td>0.000000</td>\n",
       "      <td>0.000000</td>\n",
       "      <td>0.000000</td>\n",
       "      <td>0.000000</td>\n",
       "      <td>0.000000</td>\n",
       "      <td>0.000000</td>\n",
       "    </tr>\n",
       "    <tr>\n",
       "      <th>MasVnrArea</th>\n",
       "      <td>0.000000</td>\n",
       "      <td>0.000000</td>\n",
       "      <td>0.000000</td>\n",
       "      <td>-995.363044</td>\n",
       "      <td>122.621264</td>\n",
       "      <td>-28.515466</td>\n",
       "      <td>-659.822984</td>\n",
       "      <td>-811.867450</td>\n",
       "      <td>-83.093536</td>\n",
       "      <td>1100.253448</td>\n",
       "      <td>-135.578777</td>\n",
       "    </tr>\n",
       "    <tr>\n",
       "      <th>LotFrontage</th>\n",
       "      <td>0.000000</td>\n",
       "      <td>0.000000</td>\n",
       "      <td>0.000000</td>\n",
       "      <td>-49.755900</td>\n",
       "      <td>475.223978</td>\n",
       "      <td>296.386921</td>\n",
       "      <td>267.654330</td>\n",
       "      <td>439.091156</td>\n",
       "      <td>488.161880</td>\n",
       "      <td>0.000000</td>\n",
       "      <td>191.676237</td>\n",
       "    </tr>\n",
       "    <tr>\n",
       "      <th>BsmtFinSF1</th>\n",
       "      <td>-1801.178295</td>\n",
       "      <td>-897.097815</td>\n",
       "      <td>-782.390273</td>\n",
       "      <td>-2001.333096</td>\n",
       "      <td>-1900.484967</td>\n",
       "      <td>-435.538750</td>\n",
       "      <td>96.895814</td>\n",
       "      <td>148.781737</td>\n",
       "      <td>-60.099411</td>\n",
       "      <td>1133.439234</td>\n",
       "      <td>-649.900582</td>\n",
       "    </tr>\n",
       "    <tr>\n",
       "      <th>WoodDeckSF</th>\n",
       "      <td>-1245.764557</td>\n",
       "      <td>-1346.156022</td>\n",
       "      <td>36.266010</td>\n",
       "      <td>-319.774768</td>\n",
       "      <td>-1375.736055</td>\n",
       "      <td>-1227.673086</td>\n",
       "      <td>-1273.074890</td>\n",
       "      <td>-1311.546412</td>\n",
       "      <td>-1318.190353</td>\n",
       "      <td>-992.233984</td>\n",
       "      <td>-1037.388412</td>\n",
       "    </tr>\n",
       "    <tr>\n",
       "      <th>PoolArea</th>\n",
       "      <td>0.000000</td>\n",
       "      <td>0.000000</td>\n",
       "      <td>0.000000</td>\n",
       "      <td>0.000000</td>\n",
       "      <td>0.000000</td>\n",
       "      <td>0.000000</td>\n",
       "      <td>0.000000</td>\n",
       "      <td>0.000000</td>\n",
       "      <td>0.000000</td>\n",
       "      <td>0.000000</td>\n",
       "      <td>0.000000</td>\n",
       "    </tr>\n",
       "    <tr>\n",
       "      <th>3SsnPorch</th>\n",
       "      <td>0.000000</td>\n",
       "      <td>0.000000</td>\n",
       "      <td>0.000000</td>\n",
       "      <td>0.000000</td>\n",
       "      <td>0.000000</td>\n",
       "      <td>0.000000</td>\n",
       "      <td>0.000000</td>\n",
       "      <td>0.000000</td>\n",
       "      <td>0.000000</td>\n",
       "      <td>0.000000</td>\n",
       "      <td>0.000000</td>\n",
       "    </tr>\n",
       "    <tr>\n",
       "      <th>YearRemodAdd</th>\n",
       "      <td>2663.833878</td>\n",
       "      <td>2216.176259</td>\n",
       "      <td>260.250843</td>\n",
       "      <td>-124.089661</td>\n",
       "      <td>-138.294291</td>\n",
       "      <td>-515.486349</td>\n",
       "      <td>214.269762</td>\n",
       "      <td>550.605492</td>\n",
       "      <td>0.000000</td>\n",
       "      <td>-351.453108</td>\n",
       "      <td>477.581282</td>\n",
       "    </tr>\n",
       "    <tr>\n",
       "      <th>1stFlrSF</th>\n",
       "      <td>-5456.335406</td>\n",
       "      <td>-6950.949455</td>\n",
       "      <td>-10592.910566</td>\n",
       "      <td>-8241.458132</td>\n",
       "      <td>-7503.986484</td>\n",
       "      <td>-6384.604068</td>\n",
       "      <td>-7830.999283</td>\n",
       "      <td>-7893.535754</td>\n",
       "      <td>-11697.962572</td>\n",
       "      <td>-5646.906876</td>\n",
       "      <td>-7819.964860</td>\n",
       "    </tr>\n",
       "    <tr>\n",
       "      <th>OverallCond</th>\n",
       "      <td>-540.610723</td>\n",
       "      <td>-1449.911682</td>\n",
       "      <td>-152.946983</td>\n",
       "      <td>-386.266184</td>\n",
       "      <td>-195.098424</td>\n",
       "      <td>106.332828</td>\n",
       "      <td>-141.378870</td>\n",
       "      <td>-38.418289</td>\n",
       "      <td>58.527230</td>\n",
       "      <td>0.000000</td>\n",
       "      <td>-273.977110</td>\n",
       "    </tr>\n",
       "    <tr>\n",
       "      <th>MiscVal</th>\n",
       "      <td>0.000000</td>\n",
       "      <td>0.000000</td>\n",
       "      <td>0.000000</td>\n",
       "      <td>0.000000</td>\n",
       "      <td>0.000000</td>\n",
       "      <td>0.000000</td>\n",
       "      <td>0.000000</td>\n",
       "      <td>0.000000</td>\n",
       "      <td>0.000000</td>\n",
       "      <td>0.000000</td>\n",
       "      <td>0.000000</td>\n",
       "    </tr>\n",
       "    <tr>\n",
       "      <th>BsmtFinSF2</th>\n",
       "      <td>0.000000</td>\n",
       "      <td>0.000000</td>\n",
       "      <td>0.000000</td>\n",
       "      <td>0.000000</td>\n",
       "      <td>0.000000</td>\n",
       "      <td>0.000000</td>\n",
       "      <td>0.000000</td>\n",
       "      <td>0.000000</td>\n",
       "      <td>0.000000</td>\n",
       "      <td>0.000000</td>\n",
       "      <td>0.000000</td>\n",
       "    </tr>\n",
       "    <tr>\n",
       "      <th>OpenPorchSF</th>\n",
       "      <td>0.000000</td>\n",
       "      <td>45.687292</td>\n",
       "      <td>363.640073</td>\n",
       "      <td>469.295139</td>\n",
       "      <td>639.840491</td>\n",
       "      <td>999.455434</td>\n",
       "      <td>176.361400</td>\n",
       "      <td>439.200202</td>\n",
       "      <td>98.391777</td>\n",
       "      <td>745.456900</td>\n",
       "      <td>397.732871</td>\n",
       "    </tr>\n",
       "    <tr>\n",
       "      <th>MSSubClass</th>\n",
       "      <td>0.000000</td>\n",
       "      <td>0.000000</td>\n",
       "      <td>0.000000</td>\n",
       "      <td>76.640395</td>\n",
       "      <td>359.577910</td>\n",
       "      <td>65.127813</td>\n",
       "      <td>-253.417816</td>\n",
       "      <td>-519.909230</td>\n",
       "      <td>1478.137405</td>\n",
       "      <td>0.000000</td>\n",
       "      <td>120.615648</td>\n",
       "    </tr>\n",
       "    <tr>\n",
       "      <th>YearBuilt</th>\n",
       "      <td>-2270.826561</td>\n",
       "      <td>-293.013855</td>\n",
       "      <td>-3436.337139</td>\n",
       "      <td>-2827.551580</td>\n",
       "      <td>-5766.153942</td>\n",
       "      <td>-3523.795747</td>\n",
       "      <td>-3300.667578</td>\n",
       "      <td>-3115.684314</td>\n",
       "      <td>-3849.720401</td>\n",
       "      <td>-3986.554243</td>\n",
       "      <td>-3237.030536</td>\n",
       "    </tr>\n",
       "    <tr>\n",
       "      <th>BsmtUnfSF</th>\n",
       "      <td>0.000000</td>\n",
       "      <td>0.000000</td>\n",
       "      <td>-28.189494</td>\n",
       "      <td>-469.324593</td>\n",
       "      <td>-945.946271</td>\n",
       "      <td>-483.488129</td>\n",
       "      <td>569.373532</td>\n",
       "      <td>418.788086</td>\n",
       "      <td>314.744423</td>\n",
       "      <td>2.911842</td>\n",
       "      <td>-62.113060</td>\n",
       "    </tr>\n",
       "    <tr>\n",
       "      <th>LowQualFinSF</th>\n",
       "      <td>0.000000</td>\n",
       "      <td>0.000000</td>\n",
       "      <td>0.000000</td>\n",
       "      <td>0.000000</td>\n",
       "      <td>0.000000</td>\n",
       "      <td>0.000000</td>\n",
       "      <td>0.000000</td>\n",
       "      <td>0.000000</td>\n",
       "      <td>0.000000</td>\n",
       "      <td>0.000000</td>\n",
       "      <td>0.000000</td>\n",
       "    </tr>\n",
       "    <tr>\n",
       "      <th>ScreenPorch</th>\n",
       "      <td>0.000000</td>\n",
       "      <td>0.000000</td>\n",
       "      <td>0.000000</td>\n",
       "      <td>0.000000</td>\n",
       "      <td>0.000000</td>\n",
       "      <td>0.000000</td>\n",
       "      <td>0.000000</td>\n",
       "      <td>0.000000</td>\n",
       "      <td>0.000000</td>\n",
       "      <td>0.000000</td>\n",
       "      <td>0.000000</td>\n",
       "    </tr>\n",
       "    <tr>\n",
       "      <th>MoSold</th>\n",
       "      <td>0.000000</td>\n",
       "      <td>0.000000</td>\n",
       "      <td>0.000000</td>\n",
       "      <td>-271.405914</td>\n",
       "      <td>277.722286</td>\n",
       "      <td>-74.442029</td>\n",
       "      <td>-26.663186</td>\n",
       "      <td>0.000000</td>\n",
       "      <td>-767.402283</td>\n",
       "      <td>0.000000</td>\n",
       "      <td>-86.219113</td>\n",
       "    </tr>\n",
       "    <tr>\n",
       "      <th>KitchenAbvGr</th>\n",
       "      <td>0.000000</td>\n",
       "      <td>0.000000</td>\n",
       "      <td>0.000000</td>\n",
       "      <td>0.000000</td>\n",
       "      <td>0.000000</td>\n",
       "      <td>0.000000</td>\n",
       "      <td>0.000000</td>\n",
       "      <td>0.000000</td>\n",
       "      <td>0.000000</td>\n",
       "      <td>0.000000</td>\n",
       "      <td>0.000000</td>\n",
       "    </tr>\n",
       "    <tr>\n",
       "      <th>BsmtFullBath</th>\n",
       "      <td>-1485.369759</td>\n",
       "      <td>-1622.591372</td>\n",
       "      <td>-104.979358</td>\n",
       "      <td>-1356.925673</td>\n",
       "      <td>-1688.153319</td>\n",
       "      <td>-1990.341999</td>\n",
       "      <td>-766.110201</td>\n",
       "      <td>-296.416761</td>\n",
       "      <td>-752.548214</td>\n",
       "      <td>173.310688</td>\n",
       "      <td>-989.012597</td>\n",
       "    </tr>\n",
       "    <tr>\n",
       "      <th>OverallQual</th>\n",
       "      <td>-5505.575020</td>\n",
       "      <td>-2068.549690</td>\n",
       "      <td>-6352.761263</td>\n",
       "      <td>-6992.108550</td>\n",
       "      <td>-1491.560555</td>\n",
       "      <td>-2402.149400</td>\n",
       "      <td>-4537.128379</td>\n",
       "      <td>-3135.071119</td>\n",
       "      <td>-2117.251740</td>\n",
       "      <td>-3624.428717</td>\n",
       "      <td>-3822.658443</td>\n",
       "    </tr>\n",
       "    <tr>\n",
       "      <th>BedroomAbvGr</th>\n",
       "      <td>0.000000</td>\n",
       "      <td>0.000000</td>\n",
       "      <td>0.000000</td>\n",
       "      <td>0.000000</td>\n",
       "      <td>0.000000</td>\n",
       "      <td>0.000000</td>\n",
       "      <td>0.000000</td>\n",
       "      <td>0.000000</td>\n",
       "      <td>0.000000</td>\n",
       "      <td>0.000000</td>\n",
       "      <td>0.000000</td>\n",
       "    </tr>\n",
       "    <tr>\n",
       "      <th>LotArea</th>\n",
       "      <td>-1940.594525</td>\n",
       "      <td>-1740.929523</td>\n",
       "      <td>284.635315</td>\n",
       "      <td>-1774.769651</td>\n",
       "      <td>-497.773444</td>\n",
       "      <td>-781.914858</td>\n",
       "      <td>-1209.749994</td>\n",
       "      <td>-1145.610853</td>\n",
       "      <td>-625.449648</td>\n",
       "      <td>28.553593</td>\n",
       "      <td>-940.360359</td>\n",
       "    </tr>\n",
       "    <tr>\n",
       "      <th>FullBath</th>\n",
       "      <td>0.000000</td>\n",
       "      <td>4322.683189</td>\n",
       "      <td>7626.882327</td>\n",
       "      <td>9896.299627</td>\n",
       "      <td>10712.830411</td>\n",
       "      <td>9970.471443</td>\n",
       "      <td>7613.803420</td>\n",
       "      <td>8419.368440</td>\n",
       "      <td>10000.206793</td>\n",
       "      <td>12788.722841</td>\n",
       "      <td>8135.126849</td>\n",
       "    </tr>\n",
       "  </tbody>\n",
       "</table>\n",
       "</div>"
      ],
      "text/plain": [
       "                    Loco 1       Loco 2        Loco 3       Loco 4  \\\n",
       "GarageArea     -118.845985     0.000000    194.277403   392.692809   \n",
       "Fireplaces    -1423.841896 -2565.718126  -3118.804874 -1640.170829   \n",
       "2ndFlrSF          0.000000  -151.635657      0.000000  -188.850018   \n",
       "GrLivArea      3381.191247  3018.999499   1818.053730   236.113616   \n",
       "BsmtHalfBath      0.000000     0.000000      0.000000     0.000000   \n",
       "HalfBath        -72.773099 -2696.100418  -2781.777997 -3340.967999   \n",
       "YrSold            0.000000    58.295608    143.931770  -253.112238   \n",
       "EnclosedPorch     0.000000     0.000000      0.000000     0.000000   \n",
       "MasVnrArea        0.000000     0.000000      0.000000  -995.363044   \n",
       "LotFrontage       0.000000     0.000000      0.000000   -49.755900   \n",
       "BsmtFinSF1    -1801.178295  -897.097815   -782.390273 -2001.333096   \n",
       "WoodDeckSF    -1245.764557 -1346.156022     36.266010  -319.774768   \n",
       "PoolArea          0.000000     0.000000      0.000000     0.000000   \n",
       "3SsnPorch         0.000000     0.000000      0.000000     0.000000   \n",
       "YearRemodAdd   2663.833878  2216.176259    260.250843  -124.089661   \n",
       "1stFlrSF      -5456.335406 -6950.949455 -10592.910566 -8241.458132   \n",
       "OverallCond    -540.610723 -1449.911682   -152.946983  -386.266184   \n",
       "MiscVal           0.000000     0.000000      0.000000     0.000000   \n",
       "BsmtFinSF2        0.000000     0.000000      0.000000     0.000000   \n",
       "OpenPorchSF       0.000000    45.687292    363.640073   469.295139   \n",
       "MSSubClass        0.000000     0.000000      0.000000    76.640395   \n",
       "YearBuilt     -2270.826561  -293.013855  -3436.337139 -2827.551580   \n",
       "BsmtUnfSF         0.000000     0.000000    -28.189494  -469.324593   \n",
       "LowQualFinSF      0.000000     0.000000      0.000000     0.000000   \n",
       "ScreenPorch       0.000000     0.000000      0.000000     0.000000   \n",
       "MoSold            0.000000     0.000000      0.000000  -271.405914   \n",
       "KitchenAbvGr      0.000000     0.000000      0.000000     0.000000   \n",
       "BsmtFullBath  -1485.369759 -1622.591372   -104.979358 -1356.925673   \n",
       "OverallQual   -5505.575020 -2068.549690  -6352.761263 -6992.108550   \n",
       "BedroomAbvGr      0.000000     0.000000      0.000000     0.000000   \n",
       "LotArea       -1940.594525 -1740.929523    284.635315 -1774.769651   \n",
       "FullBath          0.000000  4322.683189   7626.882327  9896.299627   \n",
       "\n",
       "                     Loco 5       Loco 6       Loco 7       Loco 8  \\\n",
       "GarageArea       742.902273   432.026697  -614.617920  -762.428177   \n",
       "Fireplaces      -876.551462 -1662.948529  -805.049273  -180.329010   \n",
       "2ndFlrSF        -146.715868  -360.834003  -920.301953  -520.485265   \n",
       "GrLivArea       1246.353869   257.009970    35.694580   635.515474   \n",
       "BsmtHalfBath       0.000000     0.000000     0.000000     0.000000   \n",
       "HalfBath       -4046.483948 -4636.059923 -1845.566167 -3244.379057   \n",
       "YrSold           381.281537   369.961030   873.449045  -320.072649   \n",
       "EnclosedPorch      0.000000     0.000000     0.000000     0.000000   \n",
       "MasVnrArea       122.621264   -28.515466  -659.822984  -811.867450   \n",
       "LotFrontage      475.223978   296.386921   267.654330   439.091156   \n",
       "BsmtFinSF1     -1900.484967  -435.538750    96.895814   148.781737   \n",
       "WoodDeckSF     -1375.736055 -1227.673086 -1273.074890 -1311.546412   \n",
       "PoolArea           0.000000     0.000000     0.000000     0.000000   \n",
       "3SsnPorch          0.000000     0.000000     0.000000     0.000000   \n",
       "YearRemodAdd    -138.294291  -515.486349   214.269762   550.605492   \n",
       "1stFlrSF       -7503.986484 -6384.604068 -7830.999283 -7893.535754   \n",
       "OverallCond     -195.098424   106.332828  -141.378870   -38.418289   \n",
       "MiscVal            0.000000     0.000000     0.000000     0.000000   \n",
       "BsmtFinSF2         0.000000     0.000000     0.000000     0.000000   \n",
       "OpenPorchSF      639.840491   999.455434   176.361400   439.200202   \n",
       "MSSubClass       359.577910    65.127813  -253.417816  -519.909230   \n",
       "YearBuilt      -5766.153942 -3523.795747 -3300.667578 -3115.684314   \n",
       "BsmtUnfSF       -945.946271  -483.488129   569.373532   418.788086   \n",
       "LowQualFinSF       0.000000     0.000000     0.000000     0.000000   \n",
       "ScreenPorch        0.000000     0.000000     0.000000     0.000000   \n",
       "MoSold           277.722286   -74.442029   -26.663186     0.000000   \n",
       "KitchenAbvGr       0.000000     0.000000     0.000000     0.000000   \n",
       "BsmtFullBath   -1688.153319 -1990.341999  -766.110201  -296.416761   \n",
       "OverallQual    -1491.560555 -2402.149400 -4537.128379 -3135.071119   \n",
       "BedroomAbvGr       0.000000     0.000000     0.000000     0.000000   \n",
       "LotArea         -497.773444  -781.914858 -1209.749994 -1145.610853   \n",
       "FullBath       10712.830411  9970.471443  7613.803420  8419.368440   \n",
       "\n",
       "                     Loco 9       Loco 10  Mean Local Importance  \n",
       "GarageArea       286.470085    162.456833              71.493402  \n",
       "Fireplaces       585.155239  -3408.051101           -1509.630986  \n",
       "2ndFlrSF        -639.510277   -675.126221            -360.345926  \n",
       "GrLivArea        902.021759   -844.022312            1068.693143  \n",
       "BsmtHalfBath       0.000000      0.000000               0.000000  \n",
       "HalfBath       -5848.654792  -1236.847626           -2974.961103  \n",
       "YrSold            39.346066   1441.805609             273.488578  \n",
       "EnclosedPorch      0.000000      0.000000               0.000000  \n",
       "MasVnrArea       -83.093536   1100.253448            -135.578777  \n",
       "LotFrontage      488.161880      0.000000             191.676237  \n",
       "BsmtFinSF1       -60.099411   1133.439234            -649.900582  \n",
       "WoodDeckSF     -1318.190353   -992.233984           -1037.388412  \n",
       "PoolArea           0.000000      0.000000               0.000000  \n",
       "3SsnPorch          0.000000      0.000000               0.000000  \n",
       "YearRemodAdd       0.000000   -351.453108             477.581282  \n",
       "1stFlrSF      -11697.962572  -5646.906876           -7819.964860  \n",
       "OverallCond       58.527230      0.000000            -273.977110  \n",
       "MiscVal            0.000000      0.000000               0.000000  \n",
       "BsmtFinSF2         0.000000      0.000000               0.000000  \n",
       "OpenPorchSF       98.391777    745.456900             397.732871  \n",
       "MSSubClass      1478.137405      0.000000             120.615648  \n",
       "YearBuilt      -3849.720401  -3986.554243           -3237.030536  \n",
       "BsmtUnfSF        314.744423      2.911842             -62.113060  \n",
       "LowQualFinSF       0.000000      0.000000               0.000000  \n",
       "ScreenPorch        0.000000      0.000000               0.000000  \n",
       "MoSold          -767.402283      0.000000             -86.219113  \n",
       "KitchenAbvGr       0.000000      0.000000               0.000000  \n",
       "BsmtFullBath    -752.548214    173.310688            -989.012597  \n",
       "OverallQual    -2117.251740  -3624.428717           -3822.658443  \n",
       "BedroomAbvGr       0.000000      0.000000               0.000000  \n",
       "LotArea         -625.449648     28.553593            -940.360359  \n",
       "FullBath       10000.206793  12788.722841            8135.126849  "
      ]
     },
     "execution_count": 17,
     "metadata": {},
     "output_type": "execute_result"
    }
   ],
   "source": [
    "median_loco_frames = []\n",
    "col_names = ['Loco ' + str(i) for i in range(1, n_models + 1)]\n",
    "\n",
    "for i in range(0, n_models):\n",
    "    \n",
    "    # collect LOCO as a column vector in a Pandas df\n",
    "    preds = pred_frames[i]\n",
    "    median_loco_frames.append(preds[preds['Id'] == int(quantile_dict[50]), :]\\\n",
    "                              .as_data_frame()\\\n",
    "                              .drop(['Id', 'predict'], axis=1)\n",
    "                              .T)\n",
    "    \n",
    "loco_ensemble = pd.concat(median_loco_frames, axis=1) \n",
    "loco_ensemble.columns = col_names\n",
    "loco_ensemble['Mean Local Importance'] = loco_ensemble.mean(axis=1)\n",
    "loco_ensemble"
   ]
  },
  {
   "cell_type": "markdown",
   "metadata": {},
   "source": [
    "#### Negative mean reason codes"
   ]
  },
  {
   "cell_type": "code",
   "execution_count": 18,
   "metadata": {
    "collapsed": false
   },
   "outputs": [
    {
     "data": {
      "image/png": "[encoded data removed]",
      "text/plain": [
       "<matplotlib.figure.Figure at 0x11b6b60f0>"
      ]
     },
     "metadata": {},
     "output_type": "display_data"
    }
   ],
   "source": [
    "median_mean_loco = loco_ensemble['Mean Local Importance'].sort_values()[:5]\n",
    "_ = median_mean_loco.plot(kind='bar', \n",
    "                          title='Negative Mean Reason Codes for the Median of Predicted Sale Price\\n', \n",
    "                          legend=False)"
   ]
  },
  {
   "cell_type": "markdown",
   "metadata": {},
   "source": [
    "#### Positive mean reason codes"
   ]
  },
  {
   "cell_type": "code",
   "execution_count": 19,
   "metadata": {
    "collapsed": false
   },
   "outputs": [
    {
     "data": {
      "image/png": "[encoded data removed]",
      "text/plain": [
       "<matplotlib.figure.Figure at 0x118aa1f98>"
      ]
     },
     "metadata": {},
     "output_type": "display_data"
    }
   ],
   "source": [
    "median_mean_loco = loco_ensemble['Mean Local Importance'].sort_values(ascending=False)[:5]\n",
    "_ = median_mean_loco.plot(kind='bar', \n",
    "                          title='Positive Mean Reason Codes for the Median of Predicted Sale Price\\n', \n",
    "                          color='r',\n",
    "                          legend=False)"
   ]
  },
  {
   "cell_type": "markdown",
   "metadata": {},
   "source": [
    "#### Shutdown H2O"
   ]
  },
  {
   "cell_type": "code",
   "execution_count": 20,
   "metadata": {
    "collapsed": false
   },
   "outputs": [
    {
     "name": "stdout",
     "output_type": "stream",
     "text": [
      "Are you sure you want to shutdown the H2O instance running at http://127.0.0.1:54321 (Y/N)? y\n",
      "H2O session _sid_807b closed.\n"
     ]
    }
   ],
   "source": [
    "h2o.cluster().shutdown(prompt=True)"
   ]
  }
 ],
 "metadata": {
  "anaconda-cloud": {},
  "kernelspec": {
   "display_name": "Python [conda root]",
   "language": "python",
   "name": "conda-root-py"
  },
  "language_info": {
   "codemirror_mode": {
    "name": "ipython",
    "version": 3
   },
   "file_extension": ".py",
   "mimetype": "text/x-python",
   "name": "python",
   "nbconvert_exporter": "python",
   "pygments_lexer": "ipython3",
   "version": "3.5.2"
  }
 },
 "nbformat": 4,
 "nbformat_minor": 2
}
